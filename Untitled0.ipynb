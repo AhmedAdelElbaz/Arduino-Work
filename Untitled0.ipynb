{
  "nbformat": 4,
  "nbformat_minor": 0,
  "metadata": {
    "colab": {
      "provenance": [],
      "authorship_tag": "ABX9TyMpdv7I+O/krpvvarYEU+qn",
      "include_colab_link": true
    },
    "kernelspec": {
      "name": "python3",
      "display_name": "Python 3"
    },
    "language_info": {
      "name": "python"
    }
  },
  "cells": [
    {
      "cell_type": "markdown",
      "metadata": {
        "id": "view-in-github",
        "colab_type": "text"
      },
      "source": [
        "<a href=\"https://colab.research.google.com/github/AhmedAdelElbaz/Arduino-Work/blob/main/Untitled0.ipynb\" target=\"_parent\"><img src=\"https://colab.research.google.com/assets/colab-badge.svg\" alt=\"Open In Colab\"/></a>"
      ]
    },
    {
      "cell_type": "code",
      "execution_count": 2,
      "metadata": {
        "id": "q8O5ec3ZZA4F"
      },
      "outputs": [],
      "source": [
        "from random import sample, shuffle\n",
        "from turtle import width\n",
        "import pandas as pd\n",
        "import matplotlib.pyplot as plt\n",
        "import seaborn as sns\n",
        "from scipy.stats import pearsonr\n",
        "import numpy as np"
      ]
    },
    {
      "cell_type": "code",
      "source": [
        "data = pd.read_csv('/trainingdata.csv', index_col=0)\n",
        "labels = pd.read_csv('/traininglabels.csv', index_col=0)"
      ],
      "metadata": {
        "id": "bu0T5NE4Z17N"
      },
      "execution_count": 4,
      "outputs": []
    },
    {
      "cell_type": "code",
      "source": [
        "percentage_na_genes = pd.DataFrame(((data.isna().sum()/data.shape[0])*100).sort_values(ascending=False),columns=['Percentage'])\n",
        "percentage_na_samples = pd.DataFrame(((data.isna().sum(axis = 1)/data.shape[1])*100).sort_values(ascending=False), columns=['Percentage'])"
      ],
      "metadata": {
        "id": "_-FtgShiaDjx"
      },
      "execution_count": 6,
      "outputs": []
    },
    {
      "cell_type": "code",
      "source": [
        "sns.histplot(percentage_na_genes)\n",
        "sns.displot(percentage_na_genes , kind = \"kde\")\n",
        "sns.histplot(percentage_na_samples)"
      ],
      "metadata": {
        "colab": {
          "base_uri": "https://localhost:8080/",
          "height": 634
        },
        "id": "d1aNOID9aJ-R",
        "outputId": "cfa4fc9c-d9ee-4e67-abf8-e1daa2b5caef"
      },
      "execution_count": 8,
      "outputs": [
        {
          "output_type": "execute_result",
          "data": {
            "text/plain": [
              "<matplotlib.axes._subplots.AxesSubplot at 0x7ff04de246d0>"
            ]
          },
          "metadata": {},
          "execution_count": 8
        },
        {
          "output_type": "display_data",
          "data": {
            "text/plain": [
              "<Figure size 432x288 with 1 Axes>"
            ],
            "image/png": "[encoded data removed]"
          },
          "metadata": {
            "needs_background": "light"
          }
        },
        {
          "output_type": "display_data",
          "data": {
            "text/plain": [
              "<Figure size 452.125x360 with 1 Axes>"
            ],
            "image/png": "[encoded data removed]"
          },
          "metadata": {
            "needs_background": "light"
          }
        }
      ]
    },
    {
      "cell_type": "code",
      "source": [
        "percentage_na_genes_high_na = percentage_na_genes[percentage_na_genes['Percentage']>10] # 471 genes 100% NAs\n",
        "data_filtered = data.drop(percentage_na_genes_high_na.index, axis=1)"
      ],
      "metadata": {
        "id": "JoNpzu2saRbH"
      },
      "execution_count": 10,
      "outputs": []
    },
    {
      "cell_type": "code",
      "source": [
        "genes_zeros = data_filtered.sum()\n",
        "genes_zeros.sort_values()\n",
        "data_filtered  = data_filtered.drop(genes_zeros[genes_zeros == 0].index, axis = 1)\n",
        "data_filtered.shape"
      ],
      "metadata": {
        "colab": {
          "base_uri": "https://localhost:8080/"
        },
        "id": "cRW5ES_qaVUC",
        "outputId": "b488a330-8848-4651-e219-7299112da96a"
      },
      "execution_count": 11,
      "outputs": [
        {
          "output_type": "execute_result",
          "data": {
            "text/plain": [
              "(158, 4450)"
            ]
          },
          "metadata": {},
          "execution_count": 11
        }
      ]
    },
    {
      "cell_type": "code",
      "source": [
        "class0 = labels[labels['x'] == 0].index\n",
        "class1 = labels[labels['x'] == 1].index"
      ],
      "metadata": {
        "id": "7IwRk7D8aXky"
      },
      "execution_count": 16,
      "outputs": []
    },
    {
      "cell_type": "code",
      "source": [
        "data_filtered"
      ],
      "metadata": {
        "colab": {
          "base_uri": "https://localhost:8080/",
          "height": 488
        },
        "id": "LcACBo_bbbnH",
        "outputId": "2c534929-78a4-4453-a7a5-7218f7385d6b"
      },
      "execution_count": 18,
      "outputs": [
        {
          "output_type": "execute_result",
          "data": {
            "text/plain": [
              "                        gene_2     gene_4     gene_5     gene_7     gene_8  \\\n",
              "training_sample_1     9.925867  12.435052  13.139116  12.489272  12.250712   \n",
              "training_sample_2     9.884897   7.256017  11.139180  20.061645  20.269381   \n",
              "training_sample_3    10.248710   0.000000  12.029570  19.521164  16.750186   \n",
              "training_sample_4     8.904325  11.993353  11.623817   8.247970  19.426093   \n",
              "training_sample_5     9.451238  15.285726        NaN   8.741547  20.605480   \n",
              "...                        ...        ...        ...        ...        ...   \n",
              "training_sample_154  11.775199   2.677548  11.638563  18.033101  27.873810   \n",
              "training_sample_155  12.772535   0.000000  10.896885  14.496814  13.996860   \n",
              "training_sample_156  11.913637  12.755895  12.000771   0.729162  23.878297   \n",
              "training_sample_157  12.844333   0.000000  11.523136  19.535928  14.628215   \n",
              "training_sample_158   9.322138  19.470854  13.110279  19.727942  10.076614   \n",
              "\n",
              "                      gene_10    gene_11    gene_12   gene_13    gene_14  ...  \\\n",
              "training_sample_1    1.738876  13.360167   9.886125  0.000000  19.035359  ...   \n",
              "training_sample_2    7.010246  18.354212   7.240177  0.323658  11.460171  ...   \n",
              "training_sample_3    6.631375  11.120354  16.666027  0.000000   6.869338  ...   \n",
              "training_sample_4    8.011230  16.323200  16.649485  0.000000  13.372668  ...   \n",
              "training_sample_5    4.117062  13.761960  12.543760  0.000000  15.970109  ...   \n",
              "...                       ...        ...        ...       ...        ...  ...   \n",
              "training_sample_154  1.310148  20.340311  18.916261  0.000000  14.529080  ...   \n",
              "training_sample_155  8.214118  11.122695  15.786326  0.000000  16.096465  ...   \n",
              "training_sample_156  5.609347  30.761570  10.134404  0.000000  16.604266  ...   \n",
              "training_sample_157  3.693537  18.553643  21.640742  0.000000  16.921415  ...   \n",
              "training_sample_158  3.533413  14.130503  10.757355  0.000000  11.642021  ...   \n",
              "\n",
              "                     gene_4991   gene_4992  gene_4993   gene_4994  gene_4995  \\\n",
              "training_sample_1    19.526312  536.803733   3.248414  896.454308   0.698281   \n",
              "training_sample_2     3.750260  533.326221   0.000000  884.224032   0.687570   \n",
              "training_sample_3    17.357102  543.495109  15.645198  889.211122   0.700385   \n",
              "training_sample_4     7.179604  534.922800   0.000000  894.831646   0.697588   \n",
              "training_sample_5     5.626128  536.198137  13.496698  897.579300   0.699150   \n",
              "...                        ...         ...        ...         ...        ...   \n",
              "training_sample_154   9.075143  532.584409  15.681096  892.258863   0.702565   \n",
              "training_sample_155   0.000000  535.237238   7.517643  905.042579   0.692193   \n",
              "training_sample_156  10.976487  538.956816   2.949216  883.683739   0.696209   \n",
              "training_sample_157   8.008327  533.227216   1.194920  903.023727   0.697602   \n",
              "training_sample_158        NaN         NaN        NaN         NaN        NaN   \n",
              "\n",
              "                     gene_4996  gene_4997  gene_4998  gene_4999  gene_5000  \n",
              "training_sample_1    21.489647  13.671497   0.201634   9.321085  14.926754  \n",
              "training_sample_2     8.115166  10.320280   0.201912   0.000000   2.428608  \n",
              "training_sample_3     2.638347  12.721622   0.197425  14.197878  25.394671  \n",
              "training_sample_4    14.252328   3.851136   0.197684   0.000000   0.000000  \n",
              "training_sample_5    15.318108   6.933526   0.198892   9.026380   7.230355  \n",
              "...                        ...        ...        ...        ...        ...  \n",
              "training_sample_154  21.662176   6.783526   0.200826  10.328375  26.491873  \n",
              "training_sample_155   8.973611   7.964704   0.197370   5.284268   7.570040  \n",
              "training_sample_156  20.572395   0.000000   0.197557   8.685466  21.829706  \n",
              "training_sample_157  15.876997   0.000000   0.198871   1.288645   6.179497  \n",
              "training_sample_158        NaN        NaN        NaN        NaN        NaN  \n",
              "\n",
              "[158 rows x 4450 columns]"
            ],
            "text/html": [
              "\n",
              "  <div id=\"df-a1e1fdd2-b7eb-4aee-a97f-8a6c6516e1e2\">\n",
              "    <div class=\"colab-df-container\">\n",
              "      <div>\n",
              "<style scoped>\n",
              "    .dataframe tbody tr th:only-of-type {\n",
              "        vertical-align: middle;\n",
              "    }\n",
              "\n",
              "    .dataframe tbody tr th {\n",
              "        vertical-align: top;\n",
              "    }\n",
              "\n",
              "    .dataframe thead th {\n",
              "        text-align: right;\n",
              "    }\n",
              "</style>\n",
              "<table border=\"1\" class=\"dataframe\">\n",
              "  <thead>\n",
              "    <tr style=\"text-align: right;\">\n",
              "      <th></th>\n",
              "      <th>gene_2</th>\n",
              "      <th>gene_4</th>\n",
              "      <th>gene_5</th>\n",
              "      <th>gene_7</th>\n",
              "      <th>gene_8</th>\n",
              "      <th>gene_10</th>\n",
              "      <th>gene_11</th>\n",
              "      <th>gene_12</th>\n",
              "      <th>gene_13</th>\n",
              "      <th>gene_14</th>\n",
              "      <th>...</th>\n",
              "      <th>gene_4991</th>\n",
              "      <th>gene_4992</th>\n",
              "      <th>gene_4993</th>\n",
              "      <th>gene_4994</th>\n",
              "      <th>gene_4995</th>\n",
              "      <th>gene_4996</th>\n",
              "      <th>gene_4997</th>\n",
              "      <th>gene_4998</th>\n",
              "      <th>gene_4999</th>\n",
              "      <th>gene_5000</th>\n",
              "    </tr>\n",
              "  </thead>\n",
              "  <tbody>\n",
              "    <tr>\n",
              "      <th>training_sample_1</th>\n",
              "      <td>9.925867</td>\n",
              "      <td>12.435052</td>\n",
              "      <td>13.139116</td>\n",
              "      <td>12.489272</td>\n",
              "      <td>12.250712</td>\n",
              "      <td>1.738876</td>\n",
              "      <td>13.360167</td>\n",
              "      <td>9.886125</td>\n",
              "      <td>0.000000</td>\n",
              "      <td>19.035359</td>\n",
              "      <td>...</td>\n",
              "      <td>19.526312</td>\n",
              "      <td>536.803733</td>\n",
              "      <td>3.248414</td>\n",
              "      <td>896.454308</td>\n",
              "      <td>0.698281</td>\n",
              "      <td>21.489647</td>\n",
              "      <td>13.671497</td>\n",
              "      <td>0.201634</td>\n",
              "      <td>9.321085</td>\n",
              "      <td>14.926754</td>\n",
              "    </tr>\n",
              "    <tr>\n",
              "      <th>training_sample_2</th>\n",
              "      <td>9.884897</td>\n",
              "      <td>7.256017</td>\n",
              "      <td>11.139180</td>\n",
              "      <td>20.061645</td>\n",
              "      <td>20.269381</td>\n",
              "      <td>7.010246</td>\n",
              "      <td>18.354212</td>\n",
              "      <td>7.240177</td>\n",
              "      <td>0.323658</td>\n",
              "      <td>11.460171</td>\n",
              "      <td>...</td>\n",
              "      <td>3.750260</td>\n",
              "      <td>533.326221</td>\n",
              "      <td>0.000000</td>\n",
              "      <td>884.224032</td>\n",
              "      <td>0.687570</td>\n",
              "      <td>8.115166</td>\n",
              "      <td>10.320280</td>\n",
              "      <td>0.201912</td>\n",
              "      <td>0.000000</td>\n",
              "      <td>2.428608</td>\n",
              "    </tr>\n",
              "    <tr>\n",
              "      <th>training_sample_3</th>\n",
              "      <td>10.248710</td>\n",
              "      <td>0.000000</td>\n",
              "      <td>12.029570</td>\n",
              "      <td>19.521164</td>\n",
              "      <td>16.750186</td>\n",
              "      <td>6.631375</td>\n",
              "      <td>11.120354</td>\n",
              "      <td>16.666027</td>\n",
              "      <td>0.000000</td>\n",
              "      <td>6.869338</td>\n",
              "      <td>...</td>\n",
              "      <td>17.357102</td>\n",
              "      <td>543.495109</td>\n",
              "      <td>15.645198</td>\n",
              "      <td>889.211122</td>\n",
              "      <td>0.700385</td>\n",
              "      <td>2.638347</td>\n",
              "      <td>12.721622</td>\n",
              "      <td>0.197425</td>\n",
              "      <td>14.197878</td>\n",
              "      <td>25.394671</td>\n",
              "    </tr>\n",
              "    <tr>\n",
              "      <th>training_sample_4</th>\n",
              "      <td>8.904325</td>\n",
              "      <td>11.993353</td>\n",
              "      <td>11.623817</td>\n",
              "      <td>8.247970</td>\n",
              "      <td>19.426093</td>\n",
              "      <td>8.011230</td>\n",
              "      <td>16.323200</td>\n",
              "      <td>16.649485</td>\n",
              "      <td>0.000000</td>\n",
              "      <td>13.372668</td>\n",
              "      <td>...</td>\n",
              "      <td>7.179604</td>\n",
              "      <td>534.922800</td>\n",
              "      <td>0.000000</td>\n",
              "      <td>894.831646</td>\n",
              "      <td>0.697588</td>\n",
              "      <td>14.252328</td>\n",
              "      <td>3.851136</td>\n",
              "      <td>0.197684</td>\n",
              "      <td>0.000000</td>\n",
              "      <td>0.000000</td>\n",
              "    </tr>\n",
              "    <tr>\n",
              "      <th>training_sample_5</th>\n",
              "      <td>9.451238</td>\n",
              "      <td>15.285726</td>\n",
              "      <td>NaN</td>\n",
              "      <td>8.741547</td>\n",
              "      <td>20.605480</td>\n",
              "      <td>4.117062</td>\n",
              "      <td>13.761960</td>\n",
              "      <td>12.543760</td>\n",
              "      <td>0.000000</td>\n",
              "      <td>15.970109</td>\n",
              "      <td>...</td>\n",
              "      <td>5.626128</td>\n",
              "      <td>536.198137</td>\n",
              "      <td>13.496698</td>\n",
              "      <td>897.579300</td>\n",
              "      <td>0.699150</td>\n",
              "      <td>15.318108</td>\n",
              "      <td>6.933526</td>\n",
              "      <td>0.198892</td>\n",
              "      <td>9.026380</td>\n",
              "      <td>7.230355</td>\n",
              "    </tr>\n",
              "    <tr>\n",
              "      <th>...</th>\n",
              "      <td>...</td>\n",
              "      <td>...</td>\n",
              "      <td>...</td>\n",
              "      <td>...</td>\n",
              "      <td>...</td>\n",
              "      <td>...</td>\n",
              "      <td>...</td>\n",
              "      <td>...</td>\n",
              "      <td>...</td>\n",
              "      <td>...</td>\n",
              "      <td>...</td>\n",
              "      <td>...</td>\n",
              "      <td>...</td>\n",
              "      <td>...</td>\n",
              "      <td>...</td>\n",
              "      <td>...</td>\n",
              "      <td>...</td>\n",
              "      <td>...</td>\n",
              "      <td>...</td>\n",
              "      <td>...</td>\n",
              "      <td>...</td>\n",
              "    </tr>\n",
              "    <tr>\n",
              "      <th>training_sample_154</th>\n",
              "      <td>11.775199</td>\n",
              "      <td>2.677548</td>\n",
              "      <td>11.638563</td>\n",
              "      <td>18.033101</td>\n",
              "      <td>27.873810</td>\n",
              "      <td>1.310148</td>\n",
              "      <td>20.340311</td>\n",
              "      <td>18.916261</td>\n",
              "      <td>0.000000</td>\n",
              "      <td>14.529080</td>\n",
              "      <td>...</td>\n",
              "      <td>9.075143</td>\n",
              "      <td>532.584409</td>\n",
              "      <td>15.681096</td>\n",
              "      <td>892.258863</td>\n",
              "      <td>0.702565</td>\n",
              "      <td>21.662176</td>\n",
              "      <td>6.783526</td>\n",
              "      <td>0.200826</td>\n",
              "      <td>10.328375</td>\n",
              "      <td>26.491873</td>\n",
              "    </tr>\n",
              "    <tr>\n",
              "      <th>training_sample_155</th>\n",
              "      <td>12.772535</td>\n",
              "      <td>0.000000</td>\n",
              "      <td>10.896885</td>\n",
              "      <td>14.496814</td>\n",
              "      <td>13.996860</td>\n",
              "      <td>8.214118</td>\n",
              "      <td>11.122695</td>\n",
              "      <td>15.786326</td>\n",
              "      <td>0.000000</td>\n",
              "      <td>16.096465</td>\n",
              "      <td>...</td>\n",
              "      <td>0.000000</td>\n",
              "      <td>535.237238</td>\n",
              "      <td>7.517643</td>\n",
              "      <td>905.042579</td>\n",
              "      <td>0.692193</td>\n",
              "      <td>8.973611</td>\n",
              "      <td>7.964704</td>\n",
              "      <td>0.197370</td>\n",
              "      <td>5.284268</td>\n",
              "      <td>7.570040</td>\n",
              "    </tr>\n",
              "    <tr>\n",
              "      <th>training_sample_156</th>\n",
              "      <td>11.913637</td>\n",
              "      <td>12.755895</td>\n",
              "      <td>12.000771</td>\n",
              "      <td>0.729162</td>\n",
              "      <td>23.878297</td>\n",
              "      <td>5.609347</td>\n",
              "      <td>30.761570</td>\n",
              "      <td>10.134404</td>\n",
              "      <td>0.000000</td>\n",
              "      <td>16.604266</td>\n",
              "      <td>...</td>\n",
              "      <td>10.976487</td>\n",
              "      <td>538.956816</td>\n",
              "      <td>2.949216</td>\n",
              "      <td>883.683739</td>\n",
              "      <td>0.696209</td>\n",
              "      <td>20.572395</td>\n",
              "      <td>0.000000</td>\n",
              "      <td>0.197557</td>\n",
              "      <td>8.685466</td>\n",
              "      <td>21.829706</td>\n",
              "    </tr>\n",
              "    <tr>\n",
              "      <th>training_sample_157</th>\n",
              "      <td>12.844333</td>\n",
              "      <td>0.000000</td>\n",
              "      <td>11.523136</td>\n",
              "      <td>19.535928</td>\n",
              "      <td>14.628215</td>\n",
              "      <td>3.693537</td>\n",
              "      <td>18.553643</td>\n",
              "      <td>21.640742</td>\n",
              "      <td>0.000000</td>\n",
              "      <td>16.921415</td>\n",
              "      <td>...</td>\n",
              "      <td>8.008327</td>\n",
              "      <td>533.227216</td>\n",
              "      <td>1.194920</td>\n",
              "      <td>903.023727</td>\n",
              "      <td>0.697602</td>\n",
              "      <td>15.876997</td>\n",
              "      <td>0.000000</td>\n",
              "      <td>0.198871</td>\n",
              "      <td>1.288645</td>\n",
              "      <td>6.179497</td>\n",
              "    </tr>\n",
              "    <tr>\n",
              "      <th>training_sample_158</th>\n",
              "      <td>9.322138</td>\n",
              "      <td>19.470854</td>\n",
              "      <td>13.110279</td>\n",
              "      <td>19.727942</td>\n",
              "      <td>10.076614</td>\n",
              "      <td>3.533413</td>\n",
              "      <td>14.130503</td>\n",
              "      <td>10.757355</td>\n",
              "      <td>0.000000</td>\n",
              "      <td>11.642021</td>\n",
              "      <td>...</td>\n",
              "      <td>NaN</td>\n",
              "      <td>NaN</td>\n",
              "      <td>NaN</td>\n",
              "      <td>NaN</td>\n",
              "      <td>NaN</td>\n",
              "      <td>NaN</td>\n",
              "      <td>NaN</td>\n",
              "      <td>NaN</td>\n",
              "      <td>NaN</td>\n",
              "      <td>NaN</td>\n",
              "    </tr>\n",
              "  </tbody>\n",
              "</table>\n",
              "<p>158 rows × 4450 columns</p>\n",
              "</div>\n",
              "      <button class=\"colab-df-convert\" onclick=\"convertToInteractive('df-a1e1fdd2-b7eb-4aee-a97f-8a6c6516e1e2')\"\n",
              "              title=\"Convert this dataframe to an interactive table.\"\n",
              "              style=\"display:none;\">\n",
              "        \n",
              "  <svg xmlns=\"http://www.w3.org/2000/svg\" height=\"24px\"viewBox=\"0 0 24 24\"\n",
              "       width=\"24px\">\n",
              "    <path d=\"M0 0h24v24H0V0z\" fill=\"none\"/>\n",
              "    <path d=\"M18.56 5.44l.94 2.06.94-2.06 2.06-.94-2.06-.94-.94-2.06-.94 2.06-2.06.94zm-11 1L8.5 8.5l.94-2.06 2.06-.94-2.06-.94L8.5 2.5l-.94 2.06-2.06.94zm10 10l.94 2.06.94-2.06 2.06-.94-2.06-.94-.94-2.06-.94 2.06-2.06.94z\"/><path d=\"M17.41 7.96l-1.37-1.37c-.4-.4-.92-.59-1.43-.59-.52 0-1.04.2-1.43.59L10.3 9.45l-7.72 7.72c-.78.78-.78 2.05 0 2.83L4 21.41c.39.39.9.59 1.41.59.51 0 1.02-.2 1.41-.59l7.78-7.78 2.81-2.81c.8-.78.8-2.07 0-2.86zM5.41 20L4 18.59l7.72-7.72 1.47 1.35L5.41 20z\"/>\n",
              "  </svg>\n",
              "      </button>\n",
              "      \n",
              "  <style>\n",
              "    .colab-df-container {\n",
              "      display:flex;\n",
              "      flex-wrap:wrap;\n",
              "      gap: 12px;\n",
              "    }\n",
              "\n",
              "    .colab-df-convert {\n",
              "      background-color: #E8F0FE;\n",
              "      border: none;\n",
              "      border-radius: 50%;\n",
              "      cursor: pointer;\n",
              "      display: none;\n",
              "      fill: #1967D2;\n",
              "      height: 32px;\n",
              "      padding: 0 0 0 0;\n",
              "      width: 32px;\n",
              "    }\n",
              "\n",
              "    .colab-df-convert:hover {\n",
              "      background-color: #E2EBFA;\n",
              "      box-shadow: 0px 1px 2px rgba(60, 64, 67, 0.3), 0px 1px 3px 1px rgba(60, 64, 67, 0.15);\n",
              "      fill: #174EA6;\n",
              "    }\n",
              "\n",
              "    [theme=dark] .colab-df-convert {\n",
              "      background-color: #3B4455;\n",
              "      fill: #D2E3FC;\n",
              "    }\n",
              "\n",
              "    [theme=dark] .colab-df-convert:hover {\n",
              "      background-color: #434B5C;\n",
              "      box-shadow: 0px 1px 3px 1px rgba(0, 0, 0, 0.15);\n",
              "      filter: drop-shadow(0px 1px 2px rgba(0, 0, 0, 0.3));\n",
              "      fill: #FFFFFF;\n",
              "    }\n",
              "  </style>\n",
              "\n",
              "      <script>\n",
              "        const buttonEl =\n",
              "          document.querySelector('#df-a1e1fdd2-b7eb-4aee-a97f-8a6c6516e1e2 button.colab-df-convert');\n",
              "        buttonEl.style.display =\n",
              "          google.colab.kernel.accessAllowed ? 'block' : 'none';\n",
              "\n",
              "        async function convertToInteractive(key) {\n",
              "          const element = document.querySelector('#df-a1e1fdd2-b7eb-4aee-a97f-8a6c6516e1e2');\n",
              "          const dataTable =\n",
              "            await google.colab.kernel.invokeFunction('convertToInteractive',\n",
              "                                                     [key], {});\n",
              "          if (!dataTable) return;\n",
              "\n",
              "          const docLinkHtml = 'Like what you see? Visit the ' +\n",
              "            '<a target=\"_blank\" href=https://colab.research.google.com/notebooks/data_table.ipynb>data table notebook</a>'\n",
              "            + ' to learn more about interactive tables.';\n",
              "          element.innerHTML = '';\n",
              "          dataTable['output_type'] = 'display_data';\n",
              "          await google.colab.output.renderOutput(dataTable, element);\n",
              "          const docLink = document.createElement('div');\n",
              "          docLink.innerHTML = docLinkHtml;\n",
              "          element.appendChild(docLink);\n",
              "        }\n",
              "      </script>\n",
              "    </div>\n",
              "  </div>\n",
              "  "
            ]
          },
          "metadata": {},
          "execution_count": 18
        }
      ]
    },
    {
      "cell_type": "code",
      "source": [
        "data_filtered_class0 = data_filtered.loc[class0]\n",
        "data_filtered_class1 = data_filtered.loc[class1]\n",
        "\n",
        "labels = [0]*len(class0)+[1]*len(class1)"
      ],
      "metadata": {
        "colab": {
          "base_uri": "https://localhost:8080/",
          "height": 571
        },
        "id": "X8MjhDerbGzd",
        "outputId": "eb3c11b8-68f1-48ec-db2e-a76481bda0de"
      },
      "execution_count": 15,
      "outputs": [
        {
          "output_type": "error",
          "ename": "KeyError",
          "evalue": "ignored",
          "traceback": [
            "\u001b[0;31m---------------------------------------------------------------------------\u001b[0m",
            "\u001b[0;31mKeyError\u001b[0m                                  Traceback (most recent call last)",
            "\u001b[0;32m<ipython-input-15-1ff2b77a04f3>\u001b[0m in \u001b[0;36m<module>\u001b[0;34m\u001b[0m\n\u001b[0;32m----> 1\u001b[0;31m \u001b[0mdata_filtered_class0\u001b[0m \u001b[0;34m=\u001b[0m \u001b[0mdata_filtered\u001b[0m\u001b[0;34m.\u001b[0m\u001b[0mloc\u001b[0m\u001b[0;34m[\u001b[0m\u001b[0mclass0\u001b[0m\u001b[0;34m,\u001b[0m\u001b[0;34m:\u001b[0m\u001b[0;34m]\u001b[0m\u001b[0;34m\u001b[0m\u001b[0;34m\u001b[0m\u001b[0m\n\u001b[0m\u001b[1;32m      2\u001b[0m \u001b[0mdata_filtered_class1\u001b[0m \u001b[0;34m=\u001b[0m \u001b[0mdata_filtered\u001b[0m\u001b[0;34m.\u001b[0m\u001b[0mloc\u001b[0m\u001b[0;34m[\u001b[0m\u001b[0mclass1\u001b[0m\u001b[0;34m]\u001b[0m\u001b[0;34m\u001b[0m\u001b[0;34m\u001b[0m\u001b[0m\n\u001b[1;32m      3\u001b[0m \u001b[0;34m\u001b[0m\u001b[0m\n\u001b[1;32m      4\u001b[0m \u001b[0mlabels\u001b[0m \u001b[0;34m=\u001b[0m \u001b[0;34m[\u001b[0m\u001b[0;36m0\u001b[0m\u001b[0;34m]\u001b[0m\u001b[0;34m*\u001b[0m\u001b[0mlen\u001b[0m\u001b[0;34m(\u001b[0m\u001b[0mclass0\u001b[0m\u001b[0;34m)\u001b[0m\u001b[0;34m+\u001b[0m\u001b[0;34m[\u001b[0m\u001b[0;36m1\u001b[0m\u001b[0;34m]\u001b[0m\u001b[0;34m*\u001b[0m\u001b[0mlen\u001b[0m\u001b[0;34m(\u001b[0m\u001b[0mclass1\u001b[0m\u001b[0;34m)\u001b[0m\u001b[0;34m\u001b[0m\u001b[0;34m\u001b[0m\u001b[0m\n",
            "\u001b[0;32m/usr/local/lib/python3.7/dist-packages/pandas/core/indexing.py\u001b[0m in \u001b[0;36m__getitem__\u001b[0;34m(self, key)\u001b[0m\n\u001b[1;32m    923\u001b[0m                 \u001b[0;32mwith\u001b[0m \u001b[0msuppress\u001b[0m\u001b[0;34m(\u001b[0m\u001b[0mKeyError\u001b[0m\u001b[0;34m,\u001b[0m \u001b[0mIndexError\u001b[0m\u001b[0;34m)\u001b[0m\u001b[0;34m:\u001b[0m\u001b[0;34m\u001b[0m\u001b[0;34m\u001b[0m\u001b[0m\n\u001b[1;32m    924\u001b[0m                     \u001b[0;32mreturn\u001b[0m \u001b[0mself\u001b[0m\u001b[0;34m.\u001b[0m\u001b[0mobj\u001b[0m\u001b[0;34m.\u001b[0m\u001b[0m_get_value\u001b[0m\u001b[0;34m(\u001b[0m\u001b[0;34m*\u001b[0m\u001b[0mkey\u001b[0m\u001b[0;34m,\u001b[0m \u001b[0mtakeable\u001b[0m\u001b[0;34m=\u001b[0m\u001b[0mself\u001b[0m\u001b[0;34m.\u001b[0m\u001b[0m_takeable\u001b[0m\u001b[0;34m)\u001b[0m\u001b[0;34m\u001b[0m\u001b[0;34m\u001b[0m\u001b[0m\n\u001b[0;32m--> 925\u001b[0;31m             \u001b[0;32mreturn\u001b[0m \u001b[0mself\u001b[0m\u001b[0;34m.\u001b[0m\u001b[0m_getitem_tuple\u001b[0m\u001b[0;34m(\u001b[0m\u001b[0mkey\u001b[0m\u001b[0;34m)\u001b[0m\u001b[0;34m\u001b[0m\u001b[0;34m\u001b[0m\u001b[0m\n\u001b[0m\u001b[1;32m    926\u001b[0m         \u001b[0;32melse\u001b[0m\u001b[0;34m:\u001b[0m\u001b[0;34m\u001b[0m\u001b[0;34m\u001b[0m\u001b[0m\n\u001b[1;32m    927\u001b[0m             \u001b[0;31m# we by definition only have the 0th axis\u001b[0m\u001b[0;34m\u001b[0m\u001b[0;34m\u001b[0m\u001b[0;34m\u001b[0m\u001b[0m\n",
            "\u001b[0;32m/usr/local/lib/python3.7/dist-packages/pandas/core/indexing.py\u001b[0m in \u001b[0;36m_getitem_tuple\u001b[0;34m(self, tup)\u001b[0m\n\u001b[1;32m   1107\u001b[0m             \u001b[0;32mreturn\u001b[0m \u001b[0mself\u001b[0m\u001b[0;34m.\u001b[0m\u001b[0m_multi_take\u001b[0m\u001b[0;34m(\u001b[0m\u001b[0mtup\u001b[0m\u001b[0;34m)\u001b[0m\u001b[0;34m\u001b[0m\u001b[0;34m\u001b[0m\u001b[0m\n\u001b[1;32m   1108\u001b[0m \u001b[0;34m\u001b[0m\u001b[0m\n\u001b[0;32m-> 1109\u001b[0;31m         \u001b[0;32mreturn\u001b[0m \u001b[0mself\u001b[0m\u001b[0;34m.\u001b[0m\u001b[0m_getitem_tuple_same_dim\u001b[0m\u001b[0;34m(\u001b[0m\u001b[0mtup\u001b[0m\u001b[0;34m)\u001b[0m\u001b[0;34m\u001b[0m\u001b[0;34m\u001b[0m\u001b[0m\n\u001b[0m\u001b[1;32m   1110\u001b[0m \u001b[0;34m\u001b[0m\u001b[0m\n\u001b[1;32m   1111\u001b[0m     \u001b[0;32mdef\u001b[0m \u001b[0m_get_label\u001b[0m\u001b[0;34m(\u001b[0m\u001b[0mself\u001b[0m\u001b[0;34m,\u001b[0m \u001b[0mlabel\u001b[0m\u001b[0;34m,\u001b[0m \u001b[0maxis\u001b[0m\u001b[0;34m:\u001b[0m \u001b[0mint\u001b[0m\u001b[0;34m)\u001b[0m\u001b[0;34m:\u001b[0m\u001b[0;34m\u001b[0m\u001b[0;34m\u001b[0m\u001b[0m\n",
            "\u001b[0;32m/usr/local/lib/python3.7/dist-packages/pandas/core/indexing.py\u001b[0m in \u001b[0;36m_getitem_tuple_same_dim\u001b[0;34m(self, tup)\u001b[0m\n\u001b[1;32m    804\u001b[0m                 \u001b[0;32mcontinue\u001b[0m\u001b[0;34m\u001b[0m\u001b[0;34m\u001b[0m\u001b[0m\n\u001b[1;32m    805\u001b[0m \u001b[0;34m\u001b[0m\u001b[0m\n\u001b[0;32m--> 806\u001b[0;31m             \u001b[0mretval\u001b[0m \u001b[0;34m=\u001b[0m \u001b[0mgetattr\u001b[0m\u001b[0;34m(\u001b[0m\u001b[0mretval\u001b[0m\u001b[0;34m,\u001b[0m \u001b[0mself\u001b[0m\u001b[0;34m.\u001b[0m\u001b[0mname\u001b[0m\u001b[0;34m)\u001b[0m\u001b[0;34m.\u001b[0m\u001b[0m_getitem_axis\u001b[0m\u001b[0;34m(\u001b[0m\u001b[0mkey\u001b[0m\u001b[0;34m,\u001b[0m \u001b[0maxis\u001b[0m\u001b[0;34m=\u001b[0m\u001b[0mi\u001b[0m\u001b[0;34m)\u001b[0m\u001b[0;34m\u001b[0m\u001b[0;34m\u001b[0m\u001b[0m\n\u001b[0m\u001b[1;32m    807\u001b[0m             \u001b[0;31m# We should never have retval.ndim < self.ndim, as that should\u001b[0m\u001b[0;34m\u001b[0m\u001b[0;34m\u001b[0m\u001b[0;34m\u001b[0m\u001b[0m\n\u001b[1;32m    808\u001b[0m             \u001b[0;31m#  be handled by the _getitem_lowerdim call above.\u001b[0m\u001b[0;34m\u001b[0m\u001b[0;34m\u001b[0m\u001b[0;34m\u001b[0m\u001b[0m\n",
            "\u001b[0;32m/usr/local/lib/python3.7/dist-packages/pandas/core/indexing.py\u001b[0m in \u001b[0;36m_getitem_axis\u001b[0;34m(self, key, axis)\u001b[0m\n\u001b[1;32m   1151\u001b[0m                     \u001b[0;32mraise\u001b[0m \u001b[0mValueError\u001b[0m\u001b[0;34m(\u001b[0m\u001b[0;34m\"Cannot index with multidimensional key\"\u001b[0m\u001b[0;34m)\u001b[0m\u001b[0;34m\u001b[0m\u001b[0;34m\u001b[0m\u001b[0m\n\u001b[1;32m   1152\u001b[0m \u001b[0;34m\u001b[0m\u001b[0m\n\u001b[0;32m-> 1153\u001b[0;31m                 \u001b[0;32mreturn\u001b[0m \u001b[0mself\u001b[0m\u001b[0;34m.\u001b[0m\u001b[0m_getitem_iterable\u001b[0m\u001b[0;34m(\u001b[0m\u001b[0mkey\u001b[0m\u001b[0;34m,\u001b[0m \u001b[0maxis\u001b[0m\u001b[0;34m=\u001b[0m\u001b[0maxis\u001b[0m\u001b[0;34m)\u001b[0m\u001b[0;34m\u001b[0m\u001b[0;34m\u001b[0m\u001b[0m\n\u001b[0m\u001b[1;32m   1154\u001b[0m \u001b[0;34m\u001b[0m\u001b[0m\n\u001b[1;32m   1155\u001b[0m             \u001b[0;31m# nested tuple slicing\u001b[0m\u001b[0;34m\u001b[0m\u001b[0;34m\u001b[0m\u001b[0;34m\u001b[0m\u001b[0m\n",
            "\u001b[0;32m/usr/local/lib/python3.7/dist-packages/pandas/core/indexing.py\u001b[0m in \u001b[0;36m_getitem_iterable\u001b[0;34m(self, key, axis)\u001b[0m\n\u001b[1;32m   1091\u001b[0m \u001b[0;34m\u001b[0m\u001b[0m\n\u001b[1;32m   1092\u001b[0m         \u001b[0;31m# A collection of keys\u001b[0m\u001b[0;34m\u001b[0m\u001b[0;34m\u001b[0m\u001b[0;34m\u001b[0m\u001b[0m\n\u001b[0;32m-> 1093\u001b[0;31m         \u001b[0mkeyarr\u001b[0m\u001b[0;34m,\u001b[0m \u001b[0mindexer\u001b[0m \u001b[0;34m=\u001b[0m \u001b[0mself\u001b[0m\u001b[0;34m.\u001b[0m\u001b[0m_get_listlike_indexer\u001b[0m\u001b[0;34m(\u001b[0m\u001b[0mkey\u001b[0m\u001b[0;34m,\u001b[0m \u001b[0maxis\u001b[0m\u001b[0;34m)\u001b[0m\u001b[0;34m\u001b[0m\u001b[0;34m\u001b[0m\u001b[0m\n\u001b[0m\u001b[1;32m   1094\u001b[0m         return self.obj._reindex_with_indexers(\n\u001b[1;32m   1095\u001b[0m             \u001b[0;34m{\u001b[0m\u001b[0maxis\u001b[0m\u001b[0;34m:\u001b[0m \u001b[0;34m[\u001b[0m\u001b[0mkeyarr\u001b[0m\u001b[0;34m,\u001b[0m \u001b[0mindexer\u001b[0m\u001b[0;34m]\u001b[0m\u001b[0;34m}\u001b[0m\u001b[0;34m,\u001b[0m \u001b[0mcopy\u001b[0m\u001b[0;34m=\u001b[0m\u001b[0;32mTrue\u001b[0m\u001b[0;34m,\u001b[0m \u001b[0mallow_dups\u001b[0m\u001b[0;34m=\u001b[0m\u001b[0;32mTrue\u001b[0m\u001b[0;34m\u001b[0m\u001b[0;34m\u001b[0m\u001b[0m\n",
            "\u001b[0;32m/usr/local/lib/python3.7/dist-packages/pandas/core/indexing.py\u001b[0m in \u001b[0;36m_get_listlike_indexer\u001b[0;34m(self, key, axis)\u001b[0m\n\u001b[1;32m   1312\u001b[0m             \u001b[0mkeyarr\u001b[0m\u001b[0;34m,\u001b[0m \u001b[0mindexer\u001b[0m\u001b[0;34m,\u001b[0m \u001b[0mnew_indexer\u001b[0m \u001b[0;34m=\u001b[0m \u001b[0max\u001b[0m\u001b[0;34m.\u001b[0m\u001b[0m_reindex_non_unique\u001b[0m\u001b[0;34m(\u001b[0m\u001b[0mkeyarr\u001b[0m\u001b[0;34m)\u001b[0m\u001b[0;34m\u001b[0m\u001b[0;34m\u001b[0m\u001b[0m\n\u001b[1;32m   1313\u001b[0m \u001b[0;34m\u001b[0m\u001b[0m\n\u001b[0;32m-> 1314\u001b[0;31m         \u001b[0mself\u001b[0m\u001b[0;34m.\u001b[0m\u001b[0m_validate_read_indexer\u001b[0m\u001b[0;34m(\u001b[0m\u001b[0mkeyarr\u001b[0m\u001b[0;34m,\u001b[0m \u001b[0mindexer\u001b[0m\u001b[0;34m,\u001b[0m \u001b[0maxis\u001b[0m\u001b[0;34m)\u001b[0m\u001b[0;34m\u001b[0m\u001b[0;34m\u001b[0m\u001b[0m\n\u001b[0m\u001b[1;32m   1315\u001b[0m \u001b[0;34m\u001b[0m\u001b[0m\n\u001b[1;32m   1316\u001b[0m         if needs_i8_conversion(ax.dtype) or isinstance(\n",
            "\u001b[0;32m/usr/local/lib/python3.7/dist-packages/pandas/core/indexing.py\u001b[0m in \u001b[0;36m_validate_read_indexer\u001b[0;34m(self, key, indexer, axis)\u001b[0m\n\u001b[1;32m   1375\u001b[0m \u001b[0;34m\u001b[0m\u001b[0m\n\u001b[1;32m   1376\u001b[0m             \u001b[0mnot_found\u001b[0m \u001b[0;34m=\u001b[0m \u001b[0mlist\u001b[0m\u001b[0;34m(\u001b[0m\u001b[0mensure_index\u001b[0m\u001b[0;34m(\u001b[0m\u001b[0mkey\u001b[0m\u001b[0;34m)\u001b[0m\u001b[0;34m[\u001b[0m\u001b[0mmissing_mask\u001b[0m\u001b[0;34m.\u001b[0m\u001b[0mnonzero\u001b[0m\u001b[0;34m(\u001b[0m\u001b[0;34m)\u001b[0m\u001b[0;34m[\u001b[0m\u001b[0;36m0\u001b[0m\u001b[0;34m]\u001b[0m\u001b[0;34m]\u001b[0m\u001b[0;34m.\u001b[0m\u001b[0munique\u001b[0m\u001b[0;34m(\u001b[0m\u001b[0;34m)\u001b[0m\u001b[0;34m)\u001b[0m\u001b[0;34m\u001b[0m\u001b[0;34m\u001b[0m\u001b[0m\n\u001b[0;32m-> 1377\u001b[0;31m             \u001b[0;32mraise\u001b[0m \u001b[0mKeyError\u001b[0m\u001b[0;34m(\u001b[0m\u001b[0;34mf\"{not_found} not in index\"\u001b[0m\u001b[0;34m)\u001b[0m\u001b[0;34m\u001b[0m\u001b[0;34m\u001b[0m\u001b[0m\n\u001b[0m\u001b[1;32m   1378\u001b[0m \u001b[0;34m\u001b[0m\u001b[0m\n\u001b[1;32m   1379\u001b[0m \u001b[0;34m\u001b[0m\u001b[0m\n",
            "\u001b[0;31mKeyError\u001b[0m: \"['training_sample_160', 'training_sample_162', 'training_sample_163', 'training_sample_164', 'training_sample_168', 'training_sample_169', 'training_sample_171', 'training_sample_172', 'training_sample_173', 'training_sample_174', 'training_sample_175', 'training_sample_176', 'training_sample_178', 'training_sample_179', 'training_sample_180', 'training_sample_182', 'training_sample_183', 'training_sample_184', 'training_sample_185', 'training_sample_186', 'training_sample_187', 'training_sample_188', 'training_sample_191', 'training_sample_192', 'training_sample_193', 'training_sample_194', 'training_sample_195', 'training_sample_196', 'training_sample_197', 'training_sample_198', 'training_sample_199', 'training_sample_200', 'training_sample_201', 'training_sample_202', 'training_sample_203', 'training_sample_205', 'training_sample_207', 'training_sample_208', 'training_sample_209', 'training_sample_212', 'training_sample_220', 'training_sample_221', 'training_sample_225', 'training_sample_228', 'training_sample_231', 'training_sample_232', 'training_sample_237', 'training_sample_239', 'training_sample_240', 'training_sample_241', 'training_sample_242', 'training_sample_243', 'training_sample_244', 'training_sample_245', 'training_sample_249', 'training_sample_252', 'training_sample_253', 'training_sample_255', 'training_sample_256', 'training_sample_258', 'training_sample_259', 'training_sample_262', 'training_sample_263', 'training_sample_265', 't..."
          ]
        }
      ]
    },
    {
      "cell_type": "code",
      "source": [
        "from sklearn.impute import SimpleImputer\n",
        "imp_mean = SimpleImputer(missing_values=np.nan, strategy='mean')\n",
        "\n",
        "data_imputed_class0 = imp_mean.fit_transform(data_filtered_class0)\n",
        "data_imputed_class0 = pd.DataFrame(data_imputed_class0, columns=data_filtered_class0.columns,index=data_filtered_class0.index)\n",
        "\n",
        "data_imputed_class1 = imp_mean.fit_transform(data_filtered_class1)\n",
        "data_imputed_class1 = pd.DataFrame(data_imputed_class1, columns=data_filtered_class1.columns,index=data_filtered_class1.index)\n",
        "\n",
        "data_imputed = data_imputed_class0.append(data_imputed_class1)"
      ],
      "metadata": {
        "id": "Asd0x-KZabAR"
      },
      "execution_count": null,
      "outputs": []
    },
    {
      "cell_type": "code",
      "source": [
        "from sklearn.preprocessing import MinMaxScaler\n",
        "min_max_scaler = MinMaxScaler(feature_range=(-1,1))\n",
        "data_scaled = min_max_scaler.fit_transform(data_imputed)\n",
        "data_scaled = pd.DataFrame(data_scaled, columns=data_imputed.columns,index=data_imputed.index)"
      ],
      "metadata": {
        "id": "aYxlDej8aeDH"
      },
      "execution_count": null,
      "outputs": []
    },
    {
      "cell_type": "code",
      "source": [
        "X = np.array(data_scaled)\n",
        "y = np.array(labels)"
      ],
      "metadata": {
        "id": "_LxNcrooagmc"
      },
      "execution_count": null,
      "outputs": []
    },
    {
      "cell_type": "code",
      "source": [
        "from sklearn.model_selection import GridSearchCV\n",
        "from sklearn.metrics import *\n",
        "from sklearn.model_selection import StratifiedKFold\n",
        "CV= 5\n",
        "scoring_metric = ['f1','accuracy', 'roc_auc']"
      ],
      "metadata": {
        "id": "QaqtIQZGai2w"
      },
      "execution_count": null,
      "outputs": []
    },
    {
      "cell_type": "code",
      "source": [
        "from sklearn.linear_model import LogisticRegression\n",
        "LR_para = {'penalty': ['l1', 'l2', 'elasticnet'] , \n",
        "            'C': np.arange(0.1,10.0,0.5), \n",
        "            'solver': ['liblinear', 'sag', 'saga'],\n",
        "            'max_iter': np.arange(100,200,20)}"
      ],
      "metadata": {
        "id": "-5tpb710alb0"
      },
      "execution_count": null,
      "outputs": []
    },
    {
      "cell_type": "code",
      "source": [
        "LR_gscv = GridSearchCV(LogisticRegression(), LR_para, cv =CV , scoring = scoring_metric[1])\n",
        "LR_gscv.fit(X,y)\n",
        "LR_gscv.best_params_\n",
        "LR_gscv.best_score_\n",
        "sns.lineplot(np.arange(0,len(LR_gscv.cv_results_['mean_test_score'])), LR_gscv.cv_results_['mean_test_score'])\n",
        "plt.show()\n",
        "LR_gscv.cv_results_['params'][11]"
      ],
      "metadata": {
        "id": "RdQjACqLaqTz"
      },
      "execution_count": null,
      "outputs": []
    },
    {
      "cell_type": "code",
      "source": [
        "LR_gscv = GridSearchCV(LogisticRegression(), LR_para, cv=CV, scoring = scoring_metric, refit = False)\n",
        "LR_gscv.fit(X, y)\n",
        "best_scores = {}\n",
        "best_params = {}\n",
        "for each in scoring_metric:\n",
        "    best_scores[f'best_score_mean_test_{each}'] = np.max(LR_gscv.cv_results_[f'mean_test_{each}'])\n",
        "    best_score_index = np.where(LR_gscv.cv_results_[f'mean_test_{each}'] == np.max(LR_gscv.cv_results_[f'mean_test_{each}'] ))[0][0]\n",
        "    best_params[f'best_param_{each}'] = LR_gscv.cv_results_['params'][best_score_index]\n",
        "    sns.lineplot(np.arange(0,len(LR_gscv.cv_results_[f'mean_test_{each}'] )) ,LR_gscv.cv_results_[f'mean_test_{each}'])"
      ],
      "metadata": {
        "id": "qNphbL19at2-"
      },
      "execution_count": null,
      "outputs": []
    }
  ]
}