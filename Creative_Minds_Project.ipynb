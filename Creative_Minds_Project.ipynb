{
  "nbformat": 4,
  "nbformat_minor": 0,
  "metadata": {
    "colab": {
      "provenance": [],
      "collapsed_sections": [],
      "authorship_tag": "ABX9TyPSTnF6nHqx2gSzFav5/H33",
      "include_colab_link": true
    },
    "kernelspec": {
      "name": "python3",
      "display_name": "Python 3"
    },
    "language_info": {
      "name": "python"
    }
  },
  "cells": [
    {
      "cell_type": "markdown",
      "metadata": {
        "id": "view-in-github",
        "colab_type": "text"
      },
      "source": [
        "<a href=\"https://colab.research.google.com/github/AhmedAdelElbaz/Arduino-Work/blob/main/Creative_Minds_Project.ipynb\" target=\"_parent\"><img src=\"https://colab.research.google.com/assets/colab-badge.svg\" alt=\"Open In Colab\"/></a>"
      ]
    },
    {
      "cell_type": "markdown",
      "source": [],
      "metadata": {
        "id": "nH6eRYKFcJAw"
      }
    },
    {
      "cell_type": "code",
      "execution_count": 131,
      "metadata": {
        "id": "lNaKdzdub6bk"
      },
      "outputs": [],
      "source": [
        "from asyncore import write\n",
        "from dataclasses import replace\n",
        "from itertools import count\n",
        "from locale import normalize\n",
        "from random import sample, shuffle\n",
        "from turtle import width\n",
        "import pandas as pd\n",
        "import matplotlib.pyplot as plt\n",
        "import seaborn as sns\n",
        "from scipy.stats import pearsonr\n",
        "import numpy as np"
      ]
    },
    {
      "cell_type": "code",
      "source": [
        "data = pd.read_csv('/content/trainingdata.csv', index_col=0)\n",
        "data.shape\n",
        "data.describe()"
      ],
      "metadata": {
        "colab": {
          "base_uri": "https://localhost:8080/",
          "height": 394
        },
        "id": "dd9E6uJccsIv",
        "outputId": "a5e3e58a-e52b-4dec-e5ab-ee109addc339"
      },
      "execution_count": 132,
      "outputs": [
        {
          "output_type": "execute_result",
          "data": {
            "text/plain": [
              "          gene_1      gene_2      gene_3      gene_4      gene_5      gene_6  \\\n",
              "count  65.000000  600.000000  355.000000  600.000000  549.000000  535.000000   \n",
              "mean    3.152797   10.189279    7.573543    9.721694   11.894184    9.165010   \n",
              "std     1.706884    1.230677    0.447046    5.292511    0.637183    0.547469   \n",
              "min     0.464355    7.872404    5.681137    0.000000    9.978353    6.059995   \n",
              "25%     2.040472    9.251098    7.288121    5.945803   11.444171    8.820331   \n",
              "50%     2.888052    9.925828    7.577429    9.911280   11.841879    9.103883   \n",
              "75%     3.933686   10.805914    7.861607   13.343368   12.333393    9.490411   \n",
              "max     9.791109   14.226224    8.966289   23.297873   13.594744   12.123206   \n",
              "\n",
              "           gene_7      gene_8      gene_9     gene_10  ...   gene_4991  \\\n",
              "count  600.000000  600.000000  479.000000  600.000000  ...  600.000000   \n",
              "mean    16.454019   15.517376   10.091952    4.970728  ...   10.677761   \n",
              "std      5.169813    5.067225    1.102212    4.203977  ...    8.595839   \n",
              "min      0.729162    1.190847    6.515872    0.000000  ...    0.000000   \n",
              "25%     12.719576   12.018328    9.409285    1.358236  ...    3.470397   \n",
              "50%     16.269931   15.398189   10.206660    4.436556  ...    9.817944   \n",
              "75%     19.755172   18.801191   10.847829    7.666387  ...   16.025598   \n",
              "max     33.373274   31.124723   13.421329   21.130483  ...   36.553480   \n",
              "\n",
              "        gene_4992   gene_4993   gene_4994   gene_4995   gene_4996   gene_4997  \\\n",
              "count  600.000000  600.000000  600.000000  600.000000  600.000000  600.000000   \n",
              "mean   535.746773   10.456841  892.414584    0.700338   13.850775    5.344296   \n",
              "std      5.635481    8.507882    8.727742    0.006962    4.898953    4.472732   \n",
              "min    517.617091    0.000000  870.190864    0.680851    0.000000    0.000000   \n",
              "25%    532.088173    2.761687  886.332338    0.695900   10.310382    1.234284   \n",
              "50%    535.804927    9.548563  892.188333    0.700002   13.843898    4.914802   \n",
              "75%    539.373662   16.693742  898.484287    0.704558   17.104707    8.293804   \n",
              "max    552.093988   35.351412  921.123495    0.724075   29.662142   19.769599   \n",
              "\n",
              "        gene_4998   gene_4999   gene_5000  \n",
              "count  600.000000  600.000000  600.000000  \n",
              "mean     0.199906    7.365950   10.802939  \n",
              "std      0.001965    5.267644    9.050029  \n",
              "min      0.194707    0.000000    0.000000  \n",
              "25%      0.198563    3.129964    2.839298  \n",
              "50%      0.199918    6.813815    9.657708  \n",
              "75%      0.201168   11.052261   17.116483  \n",
              "max      0.205377   23.512562   38.873169  \n",
              "\n",
              "[8 rows x 5000 columns]"
            ],
            "text/html": [
              "\n",
              "  <div id=\"df-6d3bc023-fa33-4c94-8a20-0b4f94bf1521\">\n",
              "    <div class=\"colab-df-container\">\n",
              "      <div>\n",
              "<style scoped>\n",
              "    .dataframe tbody tr th:only-of-type {\n",
              "        vertical-align: middle;\n",
              "    }\n",
              "\n",
              "    .dataframe tbody tr th {\n",
              "        vertical-align: top;\n",
              "    }\n",
              "\n",
              "    .dataframe thead th {\n",
              "        text-align: right;\n",
              "    }\n",
              "</style>\n",
              "<table border=\"1\" class=\"dataframe\">\n",
              "  <thead>\n",
              "    <tr style=\"text-align: right;\">\n",
              "      <th></th>\n",
              "      <th>gene_1</th>\n",
              "      <th>gene_2</th>\n",
              "      <th>gene_3</th>\n",
              "      <th>gene_4</th>\n",
              "      <th>gene_5</th>\n",
              "      <th>gene_6</th>\n",
              "      <th>gene_7</th>\n",
              "      <th>gene_8</th>\n",
              "      <th>gene_9</th>\n",
              "      <th>gene_10</th>\n",
              "      <th>...</th>\n",
              "      <th>gene_4991</th>\n",
              "      <th>gene_4992</th>\n",
              "      <th>gene_4993</th>\n",
              "      <th>gene_4994</th>\n",
              "      <th>gene_4995</th>\n",
              "      <th>gene_4996</th>\n",
              "      <th>gene_4997</th>\n",
              "      <th>gene_4998</th>\n",
              "      <th>gene_4999</th>\n",
              "      <th>gene_5000</th>\n",
              "    </tr>\n",
              "  </thead>\n",
              "  <tbody>\n",
              "    <tr>\n",
              "      <th>count</th>\n",
              "      <td>65.000000</td>\n",
              "      <td>600.000000</td>\n",
              "      <td>355.000000</td>\n",
              "      <td>600.000000</td>\n",
              "      <td>549.000000</td>\n",
              "      <td>535.000000</td>\n",
              "      <td>600.000000</td>\n",
              "      <td>600.000000</td>\n",
              "      <td>479.000000</td>\n",
              "      <td>600.000000</td>\n",
              "      <td>...</td>\n",
              "      <td>600.000000</td>\n",
              "      <td>600.000000</td>\n",
              "      <td>600.000000</td>\n",
              "      <td>600.000000</td>\n",
              "      <td>600.000000</td>\n",
              "      <td>600.000000</td>\n",
              "      <td>600.000000</td>\n",
              "      <td>600.000000</td>\n",
              "      <td>600.000000</td>\n",
              "      <td>600.000000</td>\n",
              "    </tr>\n",
              "    <tr>\n",
              "      <th>mean</th>\n",
              "      <td>3.152797</td>\n",
              "      <td>10.189279</td>\n",
              "      <td>7.573543</td>\n",
              "      <td>9.721694</td>\n",
              "      <td>11.894184</td>\n",
              "      <td>9.165010</td>\n",
              "      <td>16.454019</td>\n",
              "      <td>15.517376</td>\n",
              "      <td>10.091952</td>\n",
              "      <td>4.970728</td>\n",
              "      <td>...</td>\n",
              "      <td>10.677761</td>\n",
              "      <td>535.746773</td>\n",
              "      <td>10.456841</td>\n",
              "      <td>892.414584</td>\n",
              "      <td>0.700338</td>\n",
              "      <td>13.850775</td>\n",
              "      <td>5.344296</td>\n",
              "      <td>0.199906</td>\n",
              "      <td>7.365950</td>\n",
              "      <td>10.802939</td>\n",
              "    </tr>\n",
              "    <tr>\n",
              "      <th>std</th>\n",
              "      <td>1.706884</td>\n",
              "      <td>1.230677</td>\n",
              "      <td>0.447046</td>\n",
              "      <td>5.292511</td>\n",
              "      <td>0.637183</td>\n",
              "      <td>0.547469</td>\n",
              "      <td>5.169813</td>\n",
              "      <td>5.067225</td>\n",
              "      <td>1.102212</td>\n",
              "      <td>4.203977</td>\n",
              "      <td>...</td>\n",
              "      <td>8.595839</td>\n",
              "      <td>5.635481</td>\n",
              "      <td>8.507882</td>\n",
              "      <td>8.727742</td>\n",
              "      <td>0.006962</td>\n",
              "      <td>4.898953</td>\n",
              "      <td>4.472732</td>\n",
              "      <td>0.001965</td>\n",
              "      <td>5.267644</td>\n",
              "      <td>9.050029</td>\n",
              "    </tr>\n",
              "    <tr>\n",
              "      <th>min</th>\n",
              "      <td>0.464355</td>\n",
              "      <td>7.872404</td>\n",
              "      <td>5.681137</td>\n",
              "      <td>0.000000</td>\n",
              "      <td>9.978353</td>\n",
              "      <td>6.059995</td>\n",
              "      <td>0.729162</td>\n",
              "      <td>1.190847</td>\n",
              "      <td>6.515872</td>\n",
              "      <td>0.000000</td>\n",
              "      <td>...</td>\n",
              "      <td>0.000000</td>\n",
              "      <td>517.617091</td>\n",
              "      <td>0.000000</td>\n",
              "      <td>870.190864</td>\n",
              "      <td>0.680851</td>\n",
              "      <td>0.000000</td>\n",
              "      <td>0.000000</td>\n",
              "      <td>0.194707</td>\n",
              "      <td>0.000000</td>\n",
              "      <td>0.000000</td>\n",
              "    </tr>\n",
              "    <tr>\n",
              "      <th>25%</th>\n",
              "      <td>2.040472</td>\n",
              "      <td>9.251098</td>\n",
              "      <td>7.288121</td>\n",
              "      <td>5.945803</td>\n",
              "      <td>11.444171</td>\n",
              "      <td>8.820331</td>\n",
              "      <td>12.719576</td>\n",
              "      <td>12.018328</td>\n",
              "      <td>9.409285</td>\n",
              "      <td>1.358236</td>\n",
              "      <td>...</td>\n",
              "      <td>3.470397</td>\n",
              "      <td>532.088173</td>\n",
              "      <td>2.761687</td>\n",
              "      <td>886.332338</td>\n",
              "      <td>0.695900</td>\n",
              "      <td>10.310382</td>\n",
              "      <td>1.234284</td>\n",
              "      <td>0.198563</td>\n",
              "      <td>3.129964</td>\n",
              "      <td>2.839298</td>\n",
              "    </tr>\n",
              "    <tr>\n",
              "      <th>50%</th>\n",
              "      <td>2.888052</td>\n",
              "      <td>9.925828</td>\n",
              "      <td>7.577429</td>\n",
              "      <td>9.911280</td>\n",
              "      <td>11.841879</td>\n",
              "      <td>9.103883</td>\n",
              "      <td>16.269931</td>\n",
              "      <td>15.398189</td>\n",
              "      <td>10.206660</td>\n",
              "      <td>4.436556</td>\n",
              "      <td>...</td>\n",
              "      <td>9.817944</td>\n",
              "      <td>535.804927</td>\n",
              "      <td>9.548563</td>\n",
              "      <td>892.188333</td>\n",
              "      <td>0.700002</td>\n",
              "      <td>13.843898</td>\n",
              "      <td>4.914802</td>\n",
              "      <td>0.199918</td>\n",
              "      <td>6.813815</td>\n",
              "      <td>9.657708</td>\n",
              "    </tr>\n",
              "    <tr>\n",
              "      <th>75%</th>\n",
              "      <td>3.933686</td>\n",
              "      <td>10.805914</td>\n",
              "      <td>7.861607</td>\n",
              "      <td>13.343368</td>\n",
              "      <td>12.333393</td>\n",
              "      <td>9.490411</td>\n",
              "      <td>19.755172</td>\n",
              "      <td>18.801191</td>\n",
              "      <td>10.847829</td>\n",
              "      <td>7.666387</td>\n",
              "      <td>...</td>\n",
              "      <td>16.025598</td>\n",
              "      <td>539.373662</td>\n",
              "      <td>16.693742</td>\n",
              "      <td>898.484287</td>\n",
              "      <td>0.704558</td>\n",
              "      <td>17.104707</td>\n",
              "      <td>8.293804</td>\n",
              "      <td>0.201168</td>\n",
              "      <td>11.052261</td>\n",
              "      <td>17.116483</td>\n",
              "    </tr>\n",
              "    <tr>\n",
              "      <th>max</th>\n",
              "      <td>9.791109</td>\n",
              "      <td>14.226224</td>\n",
              "      <td>8.966289</td>\n",
              "      <td>23.297873</td>\n",
              "      <td>13.594744</td>\n",
              "      <td>12.123206</td>\n",
              "      <td>33.373274</td>\n",
              "      <td>31.124723</td>\n",
              "      <td>13.421329</td>\n",
              "      <td>21.130483</td>\n",
              "      <td>...</td>\n",
              "      <td>36.553480</td>\n",
              "      <td>552.093988</td>\n",
              "      <td>35.351412</td>\n",
              "      <td>921.123495</td>\n",
              "      <td>0.724075</td>\n",
              "      <td>29.662142</td>\n",
              "      <td>19.769599</td>\n",
              "      <td>0.205377</td>\n",
              "      <td>23.512562</td>\n",
              "      <td>38.873169</td>\n",
              "    </tr>\n",
              "  </tbody>\n",
              "</table>\n",
              "<p>8 rows × 5000 columns</p>\n",
              "</div>\n",
              "      <button class=\"colab-df-convert\" onclick=\"convertToInteractive('df-6d3bc023-fa33-4c94-8a20-0b4f94bf1521')\"\n",
              "              title=\"Convert this dataframe to an interactive table.\"\n",
              "              style=\"display:none;\">\n",
              "        \n",
              "  <svg xmlns=\"http://www.w3.org/2000/svg\" height=\"24px\"viewBox=\"0 0 24 24\"\n",
              "       width=\"24px\">\n",
              "    <path d=\"M0 0h24v24H0V0z\" fill=\"none\"/>\n",
              "    <path d=\"M18.56 5.44l.94 2.06.94-2.06 2.06-.94-2.06-.94-.94-2.06-.94 2.06-2.06.94zm-11 1L8.5 8.5l.94-2.06 2.06-.94-2.06-.94L8.5 2.5l-.94 2.06-2.06.94zm10 10l.94 2.06.94-2.06 2.06-.94-2.06-.94-.94-2.06-.94 2.06-2.06.94z\"/><path d=\"M17.41 7.96l-1.37-1.37c-.4-.4-.92-.59-1.43-.59-.52 0-1.04.2-1.43.59L10.3 9.45l-7.72 7.72c-.78.78-.78 2.05 0 2.83L4 21.41c.39.39.9.59 1.41.59.51 0 1.02-.2 1.41-.59l7.78-7.78 2.81-2.81c.8-.78.8-2.07 0-2.86zM5.41 20L4 18.59l7.72-7.72 1.47 1.35L5.41 20z\"/>\n",
              "  </svg>\n",
              "      </button>\n",
              "      \n",
              "  <style>\n",
              "    .colab-df-container {\n",
              "      display:flex;\n",
              "      flex-wrap:wrap;\n",
              "      gap: 12px;\n",
              "    }\n",
              "\n",
              "    .colab-df-convert {\n",
              "      background-color: #E8F0FE;\n",
              "      border: none;\n",
              "      border-radius: 50%;\n",
              "      cursor: pointer;\n",
              "      display: none;\n",
              "      fill: #1967D2;\n",
              "      height: 32px;\n",
              "      padding: 0 0 0 0;\n",
              "      width: 32px;\n",
              "    }\n",
              "\n",
              "    .colab-df-convert:hover {\n",
              "      background-color: #E2EBFA;\n",
              "      box-shadow: 0px 1px 2px rgba(60, 64, 67, 0.3), 0px 1px 3px 1px rgba(60, 64, 67, 0.15);\n",
              "      fill: #174EA6;\n",
              "    }\n",
              "\n",
              "    [theme=dark] .colab-df-convert {\n",
              "      background-color: #3B4455;\n",
              "      fill: #D2E3FC;\n",
              "    }\n",
              "\n",
              "    [theme=dark] .colab-df-convert:hover {\n",
              "      background-color: #434B5C;\n",
              "      box-shadow: 0px 1px 3px 1px rgba(0, 0, 0, 0.15);\n",
              "      filter: drop-shadow(0px 1px 2px rgba(0, 0, 0, 0.3));\n",
              "      fill: #FFFFFF;\n",
              "    }\n",
              "  </style>\n",
              "\n",
              "      <script>\n",
              "        const buttonEl =\n",
              "          document.querySelector('#df-6d3bc023-fa33-4c94-8a20-0b4f94bf1521 button.colab-df-convert');\n",
              "        buttonEl.style.display =\n",
              "          google.colab.kernel.accessAllowed ? 'block' : 'none';\n",
              "\n",
              "        async function convertToInteractive(key) {\n",
              "          const element = document.querySelector('#df-6d3bc023-fa33-4c94-8a20-0b4f94bf1521');\n",
              "          const dataTable =\n",
              "            await google.colab.kernel.invokeFunction('convertToInteractive',\n",
              "                                                     [key], {});\n",
              "          if (!dataTable) return;\n",
              "\n",
              "          const docLinkHtml = 'Like what you see? Visit the ' +\n",
              "            '<a target=\"_blank\" href=https://colab.research.google.com/notebooks/data_table.ipynb>data table notebook</a>'\n",
              "            + ' to learn more about interactive tables.';\n",
              "          element.innerHTML = '';\n",
              "          dataTable['output_type'] = 'display_data';\n",
              "          await google.colab.output.renderOutput(dataTable, element);\n",
              "          const docLink = document.createElement('div');\n",
              "          docLink.innerHTML = docLinkHtml;\n",
              "          element.appendChild(docLink);\n",
              "        }\n",
              "      </script>\n",
              "    </div>\n",
              "  </div>\n",
              "  "
            ]
          },
          "metadata": {},
          "execution_count": 132
        }
      ]
    },
    {
      "cell_type": "code",
      "source": [
        "labels = pd.read_csv('/content/traininglabels.csv', index_col=0)"
      ],
      "metadata": {
        "id": "OOD73_HCdCfb"
      },
      "execution_count": 133,
      "outputs": []
    },
    {
      "cell_type": "markdown",
      "source": [
        "Create Validator"
      ],
      "metadata": {
        "id": "1Y8dVaBHdIai"
      }
    },
    {
      "cell_type": "code",
      "source": [
        "from sklearn.model_selection import train_test_split\n",
        "data , X_validator , labels , y_validator = train_test_split(data , labels['x'], stratify=labels, random_state=42,  test_size = 0.05,shuffle=True)\n",
        "print(X_validator.shape)\n",
        "print(y_validator.shape)"
      ],
      "metadata": {
        "colab": {
          "base_uri": "https://localhost:8080/"
        },
        "id": "VeKYJuobdHRO",
        "outputId": "5f72c9b6-da79-41b5-fd3b-8802edf3b374"
      },
      "execution_count": 134,
      "outputs": [
        {
          "output_type": "stream",
          "name": "stdout",
          "text": [
            "(30, 5000)\n",
            "(30,)\n"
          ]
        }
      ]
    },
    {
      "cell_type": "markdown",
      "source": [
        "Data Preprocessing"
      ],
      "metadata": {
        "id": "ssLI8OHkddwt"
      }
    },
    {
      "cell_type": "code",
      "source": [
        "# Check NAs at gene level\n",
        "percentage_na_genes = pd.DataFrame(((data.isna().sum()/data.shape[0])*100).sort_values(ascending=False),columns=['Percentage'])\n",
        "\n",
        "# Check NAs at sample level\n",
        "percentage_na_samples = pd.DataFrame(((data.isna().sum(axis = 1)/data.shape[1])*100).sort_values(ascending=False), columns=['Percentage'])\n"
      ],
      "metadata": {
        "id": "2v0GZwhvdfzn"
      },
      "execution_count": 135,
      "outputs": []
    },
    {
      "cell_type": "code",
      "source": [
        "# genes\n",
        "sns.histplot(percentage_na_genes)\n",
        "plt.title(\"Histogram of NA values across genes\")\n",
        "plt.xlabel(\"NA percentage across genes\")\n",
        "plt.ylabel(\"Count of genes\")\n",
        "sns.displot(percentage_na_genes , kind = \"kde\")\n",
        "plt.title(\"Density plot of NA values across genes\")\n",
        "plt.xlabel(\"NA percentage\")\n",
        "\n",
        "# samples\n",
        "sns.histplot(percentage_na_samples)\n",
        "plt.show()\n",
        "\n",
        "#How many % of genes having NA more than 10%\n",
        "print(len(percentage_na_genes[percentage_na_genes['Percentage']>10])) # 50 genes 100% NAs\n"
      ],
      "metadata": {
        "colab": {
          "base_uri": "https://localhost:8080/",
          "height": 694
        },
        "id": "8xdqMk-idjw_",
        "outputId": "9537fb9e-86d4-4446-9320-3055d15182b9"
      },
      "execution_count": 136,
      "outputs": [
        {
          "output_type": "display_data",
          "data": {
            "text/plain": [
              "<Figure size 432x288 with 1 Axes>"
            ],
            "image/png": "[encoded data removed]"
          },
          "metadata": {
            "needs_background": "light"
          }
        },
        {
          "output_type": "display_data",
          "data": {
            "text/plain": [
              "<Figure size 452.125x360 with 1 Axes>"
            ],
            "image/png": "[encoded data removed]"
          },
          "metadata": {
            "needs_background": "light"
          }
        },
        {
          "output_type": "stream",
          "name": "stdout",
          "text": [
            "468\n"
          ]
        }
      ]
    },
    {
      "cell_type": "code",
      "source": [
        "percentage_na_genes_high_na = percentage_na_genes[percentage_na_genes['Percentage']>10] # 471 genes 100% NAs\n",
        "\n",
        "data_filtered = data.drop(percentage_na_genes_high_na.index, axis=1)\n",
        "data_filtered.shape\n"
      ],
      "metadata": {
        "colab": {
          "base_uri": "https://localhost:8080/"
        },
        "id": "Bg1r0Fczg1KW",
        "outputId": "2d4eee90-7d9c-4339-ab0f-c701a9a4a28e"
      },
      "execution_count": 137,
      "outputs": [
        {
          "output_type": "execute_result",
          "data": {
            "text/plain": [
              "(570, 4532)"
            ]
          },
          "metadata": {},
          "execution_count": 137
        }
      ]
    },
    {
      "cell_type": "code",
      "source": [
        "\"\"\"\n",
        "Remove zeros \n",
        "\"\"\"\n",
        "genes_zeros = data_filtered.sum()\n",
        "genes_zeros.sort_values()\n",
        "data_filtered  = data_filtered.drop(genes_zeros[genes_zeros == 0].index, axis = 1)\n",
        "data_filtered.shape\n"
      ],
      "metadata": {
        "colab": {
          "base_uri": "https://localhost:8080/"
        },
        "id": "CQ_8Q9JGg83Y",
        "outputId": "645296d8-edc9-42c6-f169-b4ef42c6abaa"
      },
      "execution_count": 138,
      "outputs": [
        {
          "output_type": "execute_result",
          "data": {
            "text/plain": [
              "(570, 4458)"
            ]
          },
          "metadata": {},
          "execution_count": 138
        }
      ]
    },
    {
      "cell_type": "code",
      "source": [
        "\"\"\"\n",
        "Impute NAs with KNN\n",
        "\"\"\"\n",
        "\n",
        "#Labels to be modified\n",
        "class0 = labels[labels == 0].index\n",
        "class1 = labels[labels == 1].index\n",
        "print(class0)\n",
        "print(class1)\n",
        "\n",
        "data_filtered_class0 = data_filtered.loc[class0,:]\n",
        "data_filtered_class1 = data_filtered.loc[class1,:]\n",
        "print(data_filtered_class0.shape)\n",
        "print(data_filtered_class1.shape)\n",
        "\n",
        "labels = [0]*len(class0)+[1]*len(class1)#to arrange the labels in the same order as the training data"
      ],
      "metadata": {
        "colab": {
          "base_uri": "https://localhost:8080/"
        },
        "id": "kU6hPYkxhD9U",
        "outputId": "dbda2f9a-49d6-4d33-aef3-c145b3a23110"
      },
      "execution_count": 139,
      "outputs": [
        {
          "output_type": "stream",
          "name": "stdout",
          "text": [
            "Index(['training_sample_33', 'training_sample_407', 'training_sample_171',\n",
            "       'training_sample_168', 'training_sample_199', 'training_sample_530',\n",
            "       'training_sample_513', 'training_sample_474', 'training_sample_77',\n",
            "       'training_sample_442',\n",
            "       ...\n",
            "       'training_sample_501', 'training_sample_598', 'training_sample_86',\n",
            "       'training_sample_111', 'training_sample_243', 'training_sample_550',\n",
            "       'training_sample_193', 'training_sample_481', 'training_sample_500',\n",
            "       'training_sample_562'],\n",
            "      dtype='object', length=356)\n",
            "Index(['training_sample_247', 'training_sample_12', 'training_sample_558',\n",
            "       'training_sample_289', 'training_sample_137', 'training_sample_561',\n",
            "       'training_sample_387', 'training_sample_216', 'training_sample_42',\n",
            "       'training_sample_439',\n",
            "       ...\n",
            "       'training_sample_215', 'training_sample_338', 'training_sample_340',\n",
            "       'training_sample_416', 'training_sample_226', 'training_sample_248',\n",
            "       'training_sample_541', 'training_sample_314', 'training_sample_367',\n",
            "       'training_sample_545'],\n",
            "      dtype='object', length=214)\n",
            "(356, 4458)\n",
            "(214, 4458)\n"
          ]
        }
      ]
    },
    {
      "cell_type": "code",
      "source": [
        "\"\"\"\n",
        "KNN imputatiom\n",
        "\"\"\"\n",
        "from sklearn.impute import KNNImputer\n",
        "imp_knn = KNNImputer(n_neighbors=5 , missing_values= np.nan)\n",
        "\n",
        "data_imputed_class0 = imp_knn.fit_transform(data_filtered_class0)\n",
        "data_imputed_class0 = pd.DataFrame(data_imputed_class0, columns=data_filtered_class0.columns,index=data_filtered_class0.index)\n",
        "\n",
        "data_imputed_class1 = imp_knn.fit_transform(data_filtered_class1)\n",
        "data_imputed_class1 = pd.DataFrame(data_imputed_class1, columns=data_filtered_class1.columns,index=data_filtered_class1.index)\n",
        "\n",
        "data_imputed = data_imputed_class0.append(data_imputed_class1)\n",
        "data_imputed.isna().sum()\n",
        "data_imputed.shape\n"
      ],
      "metadata": {
        "colab": {
          "base_uri": "https://localhost:8080/"
        },
        "id": "CvZ7KIHchaVV",
        "outputId": "194eeab7-c400-485b-beae-ca7f4f3166bf"
      },
      "execution_count": 140,
      "outputs": [
        {
          "output_type": "execute_result",
          "data": {
            "text/plain": [
              "(570, 4458)"
            ]
          },
          "metadata": {},
          "execution_count": 140
        }
      ]
    },
    {
      "cell_type": "code",
      "source": [
        "\"\"\"\n",
        "check for duplication\n",
        "\"\"\"\n",
        "\n",
        "set(data_imputed.transpose().duplicated())\n",
        "genes_duplicated = pd.DataFrame(data_imputed.transpose().duplicated(), columns = ['Bool'])\n",
        "genes_duplicated[genes_duplicated['Bool']== False].index\n",
        "set(data_imputed.transpose().duplicated())\n"
      ],
      "metadata": {
        "colab": {
          "base_uri": "https://localhost:8080/"
        },
        "id": "HhIsAKsciKVP",
        "outputId": "ef93fc2b-3094-4be5-8d36-5e3828248c7e"
      },
      "execution_count": 141,
      "outputs": [
        {
          "output_type": "execute_result",
          "data": {
            "text/plain": [
              "{False}"
            ]
          },
          "metadata": {},
          "execution_count": 141
        }
      ]
    },
    {
      "cell_type": "code",
      "source": [
        "\"\"\"\n",
        "check for skewness\n",
        "\"\"\"\n",
        "genes_table = pd.DataFrame()\n",
        "genes_table['skewness'] = data_imputed.skew()\n",
        "for gene in data_imputed.columns:\n",
        "    if genes_table.loc[gene,'skewness'] < -0.01:\n",
        "        genes_table.loc[gene, 'skewness_direction'] = 'left skewed'\n",
        "    elif genes_table.loc[gene,'skewness'] > 0.01:\n",
        "        genes_table.loc[gene, 'skewness_direction'] = 'right skewed'\n",
        "    else:\n",
        "        genes_table.loc[gene, 'skewness_direction'] = 'normally dist.'\n",
        "\n",
        "evaluator = 'skewness_direction'\n",
        "\n",
        "len(genes_table[genes_table[evaluator]== 'left skewed'])\n",
        "len(genes_table[genes_table[evaluator]== 'right skewed'])\n",
        "len(genes_table[genes_table[evaluator]== 'normally dist.'])\n"
      ],
      "metadata": {
        "colab": {
          "base_uri": "https://localhost:8080/"
        },
        "id": "tBVvlysYj1Ws",
        "outputId": "59838379-3465-4b4f-bc79-b53d8d3374f2"
      },
      "execution_count": 142,
      "outputs": [
        {
          "output_type": "execute_result",
          "data": {
            "text/plain": [
              "181"
            ]
          },
          "metadata": {},
          "execution_count": 142
        }
      ]
    },
    {
      "cell_type": "code",
      "source": [
        "\"\"\"\n",
        "check for normality\n",
        "\"\"\"\n",
        "#check for normality\n",
        "from scipy.stats import shapiro, ranksums, kstest , anderson\n",
        "from statsmodels.stats.diagnostic import normal_ad\n",
        "data_type = data_imputed.copy()\n",
        "for gene in data_type.columns:\n",
        "    #With shapiro test\n",
        "    genes_table.loc[gene,'shapiro_pvalue'] = shapiro(data_type.loc[:,gene])[1]\n",
        "    if genes_table.loc[gene,'shapiro_pvalue'] > 0.05:\n",
        "        genes_table.loc[gene, 'shapiro_normal'] = 'normal'\n",
        "    else:\n",
        "        genes_table.loc[gene, 'shapiro_normal'] = 'not_normal'\n",
        "    #with kolmogrov smirnov\n",
        "    genes_table.loc[gene,'ktest_pvalue'] = kstest(data_type.loc[:,gene], 'norm').pvalue\n",
        "    if genes_table.loc[gene,'ktest_pvalue'] > 0.05:\n",
        "        genes_table.loc[gene, 'ktest_normal'] = 'normal'\n",
        "    else:\n",
        "        genes_table.loc[gene, 'ktest_normal'] = 'not_normal'\n",
        "    #with Anderson darling\n",
        "    genes_table.loc[gene, 'Andersons_darling_pvalue'] = normal_ad(data_type.loc[:,gene])[1]\n",
        "    if genes_table.loc[gene,'Andersons_darling_pvalue'] > 0.05:\n",
        "        genes_table.loc[gene, 'Andersons_darling_normal'] = 'normal'\n",
        "    else:\n",
        "        genes_table.loc[gene, 'Andersons_darling_normal'] = 'not_normal'\n",
        "\n",
        "genes_table.isna().sum()    \n",
        "\n",
        "evaluator = 'shapiro_normal'#'Andersons_darling_normal' #'ktest_normal'  #'shapiro_normal'\n",
        "\n",
        "len(genes_table[genes_table[evaluator]== 'normal'])\n",
        "len(genes_table[genes_table[evaluator]== 'not_normal'])\n"
      ],
      "metadata": {
        "colab": {
          "base_uri": "https://localhost:8080/"
        },
        "id": "iQV9B8K6kAzz",
        "outputId": "f9985f28-8c63-42dd-d282-b35a4179c04c"
      },
      "execution_count": 89,
      "outputs": [
        {
          "output_type": "stream",
          "name": "stderr",
          "text": [
            "/usr/local/lib/python3.7/dist-packages/statsmodels/stats/_adnorm.py:70: RuntimeWarning: divide by zero encountered in log1p\n",
            "  s = np.sum((2 * i[sl1] - 1.0) / nobs * (np.log(z) + np.log1p(-z[sl2])),\n"
          ]
        },
        {
          "output_type": "execute_result",
          "data": {
            "text/plain": [
              "2489"
            ]
          },
          "metadata": {},
          "execution_count": 89
        }
      ]
    },
    {
      "cell_type": "code",
      "source": [
        "\"\"\"\n",
        "Outlier Detection\n",
        "\"\"\"\n",
        "\"\"\"\n",
        "Outliers Detection\n",
        "\"\"\"\n",
        "def Outlier_func(vector):\n",
        "  outliers = []\n",
        "  vector = sorted(vector)\n",
        "  q1, q3= np.percentile(vector,[15,85])\n",
        "  iqr = q3 - q1\n",
        "  lower_bound = q1 -(1.5 * iqr) \n",
        "  upper_bound = q3 +(1.5 * iqr)\n",
        "  for value in vector:\n",
        "    if value < lower_bound:\n",
        "      outliers.append(value)\n",
        "    elif value > upper_bound:\n",
        "      outliers.append(value)\n",
        "  return outliers\n"
      ],
      "metadata": {
        "id": "30LZ2EudkLzQ"
      },
      "execution_count": 143,
      "outputs": []
    },
    {
      "cell_type": "code",
      "source": [
        "#outliers in the data imputed\n",
        "outliers = {}\n",
        "genes_names = []\n",
        "len_outliers =[]\n",
        "for gene in data_imputed.columns:\n",
        "  outliers[f'{gene}_Outlier'] = Outlier_func(data_imputed.loc[:,gene])\n",
        "  if len(Outlier_func(data_imputed.loc[:,gene])) != 0:\n",
        "    genes_names.append(gene)\n",
        "    len_outliers.append(len(Outlier_func(data_imputed.loc[:,gene])))\n",
        "\n",
        "sns.histplot(len_outliers)\n",
        "sns.displot(len_outliers , kind = \"kde\")\n",
        "plt.show()\n",
        "\n",
        "genes_names = pd.DataFrame(index = genes_names)\n",
        "genes_names['count_of_outliers'] = len_outliers\n",
        "genes_names = genes_names.sort_values('count_of_outliers', ascending = False)\n",
        "print(genes_names)"
      ],
      "metadata": {
        "colab": {
          "base_uri": "https://localhost:8080/",
          "height": 861
        },
        "id": "SrzPMH4elEPe",
        "outputId": "f952a748-d524-47af-d9b1-6ed51c6a1726"
      },
      "execution_count": 144,
      "outputs": [
        {
          "output_type": "display_data",
          "data": {
            "text/plain": [
              "<Figure size 432x288 with 1 Axes>"
            ],
            "image/png": "[encoded data removed]"
          },
          "metadata": {
            "needs_background": "light"
          }
        },
        {
          "output_type": "display_data",
          "data": {
            "text/plain": [
              "<Figure size 360x360 with 1 Axes>"
            ],
            "image/png": "[encoded data removed]"
          },
          "metadata": {
            "needs_background": "light"
          }
        },
        {
          "output_type": "stream",
          "name": "stdout",
          "text": [
            "           count_of_outliers\n",
            "gene_2848                 85\n",
            "gene_2270                 82\n",
            "gene_1433                 81\n",
            "gene_776                  73\n",
            "gene_1685                 73\n",
            "...                      ...\n",
            "gene_3294                  1\n",
            "gene_1165                  1\n",
            "gene_1151                  1\n",
            "gene_3322                  1\n",
            "gene_2555                  1\n",
            "\n",
            "[422 rows x 1 columns]\n"
          ]
        }
      ]
    },
    {
      "cell_type": "code",
      "source": [
        "data_imputed = data_imputed.drop(genes_names[genes_names.iloc[:,0]>=10].index, axis = 1)\n",
        "len(genes_names[genes_names.iloc[:,0]>=10])\n",
        "data_imputed.shape"
      ],
      "metadata": {
        "colab": {
          "base_uri": "https://localhost:8080/"
        },
        "id": "g2q1rqQtlTDK",
        "outputId": "c92a729f-47e8-4d22-81be-d8f7219e2d55"
      },
      "execution_count": 145,
      "outputs": [
        {
          "output_type": "execute_result",
          "data": {
            "text/plain": [
              "(570, 4387)"
            ]
          },
          "metadata": {},
          "execution_count": 145
        }
      ]
    },
    {
      "cell_type": "code",
      "source": [
        "from sklearn.preprocessing import StandardScaler\n",
        "scaler = StandardScaler(copy =True)\n",
        "data_scaled = scaler.fit_transform(data_imputed)\n",
        "data_scaled = pd.DataFrame(data_scaled , columns = data_imputed.columns , index = data_imputed.index)\n",
        "\n",
        "\n",
        "sns.scatterplot(data_scaled.sort_index().mean(),data.loc[:,data_scaled.columns].sort_index().mean())\n",
        "plt.show()\n"
      ],
      "metadata": {
        "colab": {
          "base_uri": "https://localhost:8080/",
          "height": 333
        },
        "id": "V1ZNrnHtnjC7",
        "outputId": "8687a819-0009-457f-8ae6-7a2dd1372204"
      },
      "execution_count": 146,
      "outputs": [
        {
          "output_type": "stream",
          "name": "stderr",
          "text": [
            "/usr/local/lib/python3.7/dist-packages/seaborn/_decorators.py:43: FutureWarning: Pass the following variables as keyword args: x, y. From version 0.12, the only valid positional argument will be `data`, and passing other arguments without an explicit keyword will result in an error or misinterpretation.\n",
            "  FutureWarning\n"
          ]
        },
        {
          "output_type": "display_data",
          "data": {
            "text/plain": [
              "<Figure size 432x288 with 1 Axes>"
            ],
            "image/png": "[encoded data removed]"
          },
          "metadata": {
            "needs_background": "light"
          }
        }
      ]
    },
    {
      "cell_type": "code",
      "source": [
        "\"\"\"\n",
        "check for normality\n",
        "\"\"\"\n",
        "#check for normality\n",
        "data_type = data_scaled.copy()\n",
        "from scipy.stats import shapiro, ranksums, kstest , anderson\n",
        "from statsmodels.stats.diagnostic import normal_ad\n",
        "\n",
        "for gene in data_type.columns:\n",
        "    #With shapiro test\n",
        "    genes_table.loc[gene,'shapiro_pvalue'] = shapiro(data_type.loc[:,gene])[1]\n",
        "    if genes_table.loc[gene,'shapiro_pvalue'] > 0.05:\n",
        "        genes_table.loc[gene, 'shapiro_normal'] = 'normal'\n",
        "    else:\n",
        "        genes_table.loc[gene, 'shapiro_normal'] = 'not_normal'\n",
        "    #with kolmogrov smirnov\n",
        "    genes_table.loc[gene,'ktest_pvalue'] = kstest(data_type.loc[:,gene], 'norm').pvalue\n",
        "    if genes_table.loc[gene,'ktest_pvalue'] > 0.05:\n",
        "        genes_table.loc[gene, 'ktest_normal'] = 'normal'\n",
        "    else:\n",
        "        genes_table.loc[gene, 'ktest_normal'] = 'not_normal'\n",
        "    #with Anderson darling\n",
        "    genes_table.loc[gene, 'Andersons_darling_pvalue'] = normal_ad(data_type.loc[:,gene])[1]\n",
        "    if genes_table.loc[gene,'Andersons_darling_pvalue'] > 0.05:\n",
        "        genes_table.loc[gene, 'Andersons_darling_normal'] = 'normal'\n",
        "    else:\n",
        "        genes_table.loc[gene, 'Andersons_darling_normal'] = 'not_normal'\n",
        "\n",
        "genes_table.isna().sum()\n",
        "print(genes_table)"
      ],
      "metadata": {
        "colab": {
          "base_uri": "https://localhost:8080/"
        },
        "id": "JsTI-yzinrQj",
        "outputId": "1e668394-f935-4f34-96c2-768bd5ebd866"
      },
      "execution_count": 147,
      "outputs": [
        {
          "output_type": "stream",
          "name": "stderr",
          "text": [
            "/usr/local/lib/python3.7/dist-packages/statsmodels/stats/_adnorm.py:70: RuntimeWarning: divide by zero encountered in log1p\n",
            "  s = np.sum((2 * i[sl1] - 1.0) / nobs * (np.log(z) + np.log1p(-z[sl2])),\n"
          ]
        },
        {
          "output_type": "stream",
          "name": "stdout",
          "text": [
            "           skewness skewness_direction  shapiro_pvalue shapiro_normal  \\\n",
            "gene_2     0.845829       right skewed    8.344186e-15     not_normal   \n",
            "gene_4     0.066334       right skewed    3.315873e-05     not_normal   \n",
            "gene_5     0.159865       right skewed    1.022946e-01         normal   \n",
            "gene_7     0.212172       right skewed    1.016633e-01         normal   \n",
            "gene_8     0.090911       right skewed    6.075231e-01         normal   \n",
            "...             ...                ...             ...            ...   \n",
            "gene_4996  0.022579       right skewed    4.708123e-01         normal   \n",
            "gene_4997  0.552004       right skewed    8.494362e-16     not_normal   \n",
            "gene_4998  0.061027       right skewed    1.319747e-01         normal   \n",
            "gene_4999  0.427865       right skewed    4.326313e-11     not_normal   \n",
            "gene_5000  0.636040       right skewed    1.136736e-15     not_normal   \n",
            "\n",
            "           ktest_pvalue ktest_normal  Andersons_darling_pvalue  \\\n",
            "gene_2     1.495646e-04   not_normal              1.591153e-27   \n",
            "gene_4     5.600363e-01       normal              1.180536e-02   \n",
            "gene_5     3.357094e-01       normal              3.319349e-02   \n",
            "gene_7     4.692935e-01       normal              4.864889e-02   \n",
            "gene_8     9.802456e-01       normal              6.605225e-01   \n",
            "...                 ...          ...                       ...   \n",
            "gene_4996  9.390601e-01       normal              4.147982e-01   \n",
            "gene_4997  2.850101e-07   not_normal              1.478509e-25   \n",
            "gene_4998  9.424341e-01       normal              4.362459e-01   \n",
            "gene_4999  1.356770e-03   not_normal              3.874795e-11   \n",
            "gene_5000  2.870896e-07   not_normal              2.369067e-24   \n",
            "\n",
            "          Andersons_darling_normal  \n",
            "gene_2                  not_normal  \n",
            "gene_4                  not_normal  \n",
            "gene_5                  not_normal  \n",
            "gene_7                  not_normal  \n",
            "gene_8                      normal  \n",
            "...                            ...  \n",
            "gene_4996                   normal  \n",
            "gene_4997               not_normal  \n",
            "gene_4998                   normal  \n",
            "gene_4999               not_normal  \n",
            "gene_5000               not_normal  \n",
            "\n",
            "[4458 rows x 8 columns]\n"
          ]
        }
      ]
    },
    {
      "cell_type": "code",
      "source": [
        "\n",
        "evaluator = 'shapiro_normal'#'Andersons_darling_normal' #'ktest_normal'  #'shapiro_normal'\n",
        "\n",
        "print(f\"normally distributed genes according to {evaluator} = \"   , len(genes_table[genes_table[evaluator]== 'normal']))\n",
        "print(f\"not normally distributed genes according to {evaluator} = \"   ,  len(genes_table[genes_table[evaluator]== 'not_normal']))"
      ],
      "metadata": {
        "colab": {
          "base_uri": "https://localhost:8080/"
        },
        "id": "ZokAcK2kqWo6",
        "outputId": "ea5e06a6-e938-49d3-fed8-c1446ac35dcf"
      },
      "execution_count": 148,
      "outputs": [
        {
          "output_type": "stream",
          "name": "stdout",
          "text": [
            "normally distributed genes according to shapiro_normal =  1969\n",
            "not normally distributed genes according to shapiro_normal =  2418\n"
          ]
        }
      ]
    },
    {
      "cell_type": "code",
      "source": [
        "\"\"\"\n",
        "PCA\n",
        "\"\"\"\n",
        "from sklearn import decomposition\n",
        "\n",
        "X = data_scaled.copy()\n",
        "n_PCAs = 50\n",
        "pca = decomposition.PCA(n_components=n_PCAs)\n",
        "pca.fit(X)\n",
        "X = pca.transform(X)\n",
        "X.shape\n",
        "pca.explained_variance_ratio_\n",
        "pca.components_.shape\n",
        "\n",
        "#Elbow plot\n",
        "plt.xticks(np.arange(1, n_PCAs, 1))\n",
        "plt.xlim(0.5,n_PCAs+0.5)\n",
        "sns.scatterplot(np.arange(1,len(pca.explained_variance_)+1) , pca.explained_variance_ratio_*100)\n",
        "plt.show()\n",
        "\n",
        "X = pd.DataFrame(X)\n",
        "X['labels'] = labels\n",
        "\n",
        "sns.scatterplot(data=X,x=X.iloc[:,0],y=X.iloc[:,1], hue = 'labels')\n",
        "plt.xlabel(\"PC1\")\n",
        "plt.ylabel(\"PC2\")\n",
        "plt.show()"
      ],
      "metadata": {
        "colab": {
          "base_uri": "https://localhost:8080/",
          "height": 582
        },
        "id": "U-sgYGfuoKC2",
        "outputId": "e0a2b293-8fe4-46ee-d127-d5293f7a4693"
      },
      "execution_count": 151,
      "outputs": [
        {
          "output_type": "stream",
          "name": "stderr",
          "text": [
            "/usr/local/lib/python3.7/dist-packages/seaborn/_decorators.py:43: FutureWarning: Pass the following variables as keyword args: x, y. From version 0.12, the only valid positional argument will be `data`, and passing other arguments without an explicit keyword will result in an error or misinterpretation.\n",
            "  FutureWarning\n"
          ]
        },
        {
          "output_type": "display_data",
          "data": {
            "text/plain": [
              "<Figure size 432x288 with 1 Axes>"
            ],
            "image/png": "[encoded data removed]"
          },
          "metadata": {
            "needs_background": "light"
          }
        },
        {
          "output_type": "display_data",
          "data": {
            "text/plain": [
              "<Figure size 432x288 with 1 Axes>"
            ],
            "image/png": "[encoded data removed]"
          },
          "metadata": {
            "needs_background": "light"
          }
        }
      ]
    },
    {
      "cell_type": "code",
      "source": [
        "\"\"\"\n",
        "T-SNE\n",
        "\"\"\"\n",
        "from sklearn.manifold import TSNE\n",
        "\n",
        "reducer = TSNE()\n",
        "TSNE_projections = reducer.fit_transform(data_scaled)\n",
        "TSNE_projections.shape\n",
        "TSNE_projections = pd.DataFrame(TSNE_projections , index = data_scaled.index)\n",
        "TSNE_projections['labels'] = labels\n",
        "\n",
        "sns.scatterplot(data= TSNE_projections, x = TSNE_projections.iloc[:,0] , y = TSNE_projections.iloc[:,1] , hue = 'labels' , palette = 'deep')\n",
        "plt.title('t-SNE projection of the samples' , fontsize = 24)\n",
        "plt.show()\n"
      ],
      "metadata": {
        "colab": {
          "base_uri": "https://localhost:8080/",
          "height": 393
        },
        "id": "AHUubU-qvWjK",
        "outputId": "830a97ae-e91b-484b-e1fe-397632a27fae"
      },
      "execution_count": 152,
      "outputs": [
        {
          "output_type": "stream",
          "name": "stderr",
          "text": [
            "/usr/local/lib/python3.7/dist-packages/sklearn/manifold/_t_sne.py:783: FutureWarning: The default initialization in TSNE will change from 'random' to 'pca' in 1.2.\n",
            "  FutureWarning,\n",
            "/usr/local/lib/python3.7/dist-packages/sklearn/manifold/_t_sne.py:793: FutureWarning: The default learning rate in TSNE will change from 200.0 to 'auto' in 1.2.\n",
            "  FutureWarning,\n"
          ]
        },
        {
          "output_type": "display_data",
          "data": {
            "text/plain": [
              "<Figure size 432x288 with 1 Axes>"
            ],
            "image/png": "[encoded data removed]"
          },
          "metadata": {
            "needs_background": "light"
          }
        }
      ]
    },
    {
      "cell_type": "code",
      "source": [
        "\"\"\"\n",
        "Parameter Selection\n",
        "\"\"\"\n",
        "X = np.array(data_scaled)\n",
        "y = np.array(labels)\n",
        "y.shape"
      ],
      "metadata": {
        "colab": {
          "base_uri": "https://localhost:8080/"
        },
        "id": "zHZ8DuMx5kEk",
        "outputId": "e3fe766a-fa8d-473b-a3eb-fa87ee9665ed"
      },
      "execution_count": 153,
      "outputs": [
        {
          "output_type": "execute_result",
          "data": {
            "text/plain": [
              "(570,)"
            ]
          },
          "metadata": {},
          "execution_count": 153
        }
      ]
    },
    {
      "cell_type": "code",
      "source": [
        "\"\"\"\n",
        "GridSearch\n",
        "\"\"\"\n",
        "\n",
        "from sklearn.model_selection import GridSearchCV\n",
        "from sklearn.metrics import *\n",
        "from sklearn.model_selection import StratifiedKFold\n",
        "CV= 5\n",
        "scoring_metric = ['f1','accuracy']"
      ],
      "metadata": {
        "id": "MsKTzIaC1ori"
      },
      "execution_count": 154,
      "outputs": []
    },
    {
      "cell_type": "code",
      "source": [
        "from sklearn.svm import SVC\n",
        "Supp_para = { 'kernel': ['linear','poly', 'rbf'],\n",
        "            'degree': np.arange(2,5),\n",
        "            'gamma': ['scale', 'auto']}\n"
      ],
      "metadata": {
        "id": "pt2Sowxy2dgY"
      },
      "execution_count": 155,
      "outputs": []
    },
    {
      "cell_type": "code",
      "source": [
        "#Multiple metrics\n",
        "Supp_gscv = GridSearchCV(SVC(), Supp_para, cv=CV, scoring = scoring_metric, refit = False)\n",
        "Supp_gscv.fit(X, y)\n",
        "\n",
        "#getting the best scores and best parameters and plotting\n",
        "best_scores = {}\n",
        "best_params = {}\n",
        "for each in scoring_metric:\n",
        "    best_scores[f'best_score_mean_test_{each}'] = np.max(Supp_gscv.cv_results_[f'mean_test_{each}'])\n",
        "    best_score_index = np.where(Supp_gscv.cv_results_[f'mean_test_{each}'] == np.max(Supp_gscv.cv_results_[f'mean_test_{each}'] ))[0][0]\n",
        "    best_params[f'best_param_{each}'] = Supp_gscv.cv_results_['params'][best_score_index]\n",
        "    sns.lineplot(np.arange(0,len(Supp_gscv.cv_results_[f'mean_test_{each}'] )) ,Supp_gscv.cv_results_[f'mean_test_{each}'])\n",
        "plt.show()\n"
      ],
      "metadata": {
        "colab": {
          "base_uri": "https://localhost:8080/",
          "height": 354
        },
        "id": "4qM8vbicElXw",
        "outputId": "10bac020-a75d-401c-f159-4417c5d0f0fb"
      },
      "execution_count": 156,
      "outputs": [
        {
          "output_type": "stream",
          "name": "stderr",
          "text": [
            "/usr/local/lib/python3.7/dist-packages/seaborn/_decorators.py:43: FutureWarning: Pass the following variables as keyword args: x, y. From version 0.12, the only valid positional argument will be `data`, and passing other arguments without an explicit keyword will result in an error or misinterpretation.\n",
            "  FutureWarning\n",
            "/usr/local/lib/python3.7/dist-packages/seaborn/_decorators.py:43: FutureWarning: Pass the following variables as keyword args: x, y. From version 0.12, the only valid positional argument will be `data`, and passing other arguments without an explicit keyword will result in an error or misinterpretation.\n",
            "  FutureWarning\n"
          ]
        },
        {
          "output_type": "display_data",
          "data": {
            "text/plain": [
              "<Figure size 432x288 with 1 Axes>"
            ],
            "image/png": "[encoded data removed]"
          },
          "metadata": {
            "needs_background": "light"
          }
        }
      ]
    },
    {
      "cell_type": "code",
      "source": [
        "print(best_scores)\n",
        "print(best_params)"
      ],
      "metadata": {
        "colab": {
          "base_uri": "https://localhost:8080/"
        },
        "id": "mN9V5equFJum",
        "outputId": "49bf232b-5247-4c35-bfb5-a416db5ac14a"
      },
      "execution_count": 158,
      "outputs": [
        {
          "output_type": "stream",
          "name": "stdout",
          "text": [
            "{'best_score_mean_test_f1': 0.9905862574786148, 'best_score_mean_test_accuracy': 0.9929824561403509}\n",
            "{'best_param_f1': {'degree': 2, 'gamma': 'scale', 'kernel': 'linear'}, 'best_param_accuracy': {'degree': 2, 'gamma': 'scale', 'kernel': 'linear'}}\n"
          ]
        }
      ]
    },
    {
      "cell_type": "code",
      "source": [
        "'''\n",
        "K nearest neighbours grid search for best parameters\n",
        "'''\n",
        "from sklearn.neighbors import KNeighborsClassifier\n",
        "KNN_para = {'n_neighbors': np.arange(5,20),\n",
        "            'weights':['uniform', 'distance']}"
      ],
      "metadata": {
        "id": "Ytecar5HHaXB"
      },
      "execution_count": 159,
      "outputs": []
    },
    {
      "cell_type": "code",
      "source": [
        "#Multiple metrics\n",
        "KNN_gscv = GridSearchCV(KNeighborsClassifier(), KNN_para, cv=CV, scoring = scoring_metric, refit = False)\n",
        "KNN_gscv.fit(X, y)\n",
        "\n",
        "#getting the best scores and best parameters and plotting\n",
        "best_scores = {}\n",
        "best_params = {}\n",
        "for each in scoring_metric:\n",
        "    best_scores[f'best_score_mean_test_{each}'] = np.max(KNN_gscv.cv_results_[f'mean_test_{each}'])\n",
        "    best_score_index = np.where(KNN_gscv.cv_results_[f'mean_test_{each}'] == np.max(KNN_gscv.cv_results_[f'mean_test_{each}'] ))[0][0]\n",
        "    best_params[f'best_param_{each}'] = KNN_gscv.cv_results_['params'][best_score_index]\n",
        "    sns.lineplot(np.arange(0,len(KNN_gscv.cv_results_[f'mean_test_{each}'] )) ,KNN_gscv.cv_results_[f'mean_test_{each}'])\n",
        "plt.show()\n",
        "\n"
      ],
      "metadata": {
        "colab": {
          "base_uri": "https://localhost:8080/",
          "height": 354
        },
        "id": "QO6PWi4qHgXh",
        "outputId": "0bf1fa76-307f-42a7-ece8-303aed4f8e07"
      },
      "execution_count": 160,
      "outputs": [
        {
          "output_type": "stream",
          "name": "stderr",
          "text": [
            "/usr/local/lib/python3.7/dist-packages/seaborn/_decorators.py:43: FutureWarning: Pass the following variables as keyword args: x, y. From version 0.12, the only valid positional argument will be `data`, and passing other arguments without an explicit keyword will result in an error or misinterpretation.\n",
            "  FutureWarning\n",
            "/usr/local/lib/python3.7/dist-packages/seaborn/_decorators.py:43: FutureWarning: Pass the following variables as keyword args: x, y. From version 0.12, the only valid positional argument will be `data`, and passing other arguments without an explicit keyword will result in an error or misinterpretation.\n",
            "  FutureWarning\n"
          ]
        },
        {
          "output_type": "display_data",
          "data": {
            "text/plain": [
              "<Figure size 432x288 with 1 Axes>"
            ],
            "image/png": "[encoded data removed]"
          },
          "metadata": {
            "needs_background": "light"
          }
        }
      ]
    },
    {
      "cell_type": "code",
      "source": [
        "print(best_scores)\n",
        "print(best_params)"
      ],
      "metadata": {
        "colab": {
          "base_uri": "https://localhost:8080/"
        },
        "outputId": "bd1785db-0af4-4fda-fb6e-893b1820de9f",
        "id": "HoVAIWJmIcve"
      },
      "execution_count": 161,
      "outputs": [
        {
          "output_type": "stream",
          "name": "stdout",
          "text": [
            "{'best_score_mean_test_f1': 0.9882333163021443, 'best_score_mean_test_accuracy': 0.9912280701754386}\n",
            "{'best_param_f1': {'n_neighbors': 19, 'weights': 'uniform'}, 'best_param_accuracy': {'n_neighbors': 19, 'weights': 'uniform'}}\n"
          ]
        }
      ]
    },
    {
      "cell_type": "code",
      "source": [
        "\"\"\"\n",
        "Training the models\n",
        "\"\"\"\n",
        "X = np.array(data_scaled)\n",
        "y = np.array(labels)\n",
        "X.shape\n",
        "y.shape\n",
        "#Generating the models\n",
        "accuracies_tree = []\n",
        "accuracies_SV = []\n",
        "accuracies_KNN = []\n",
        "\n",
        "f1_tree = []\n",
        "f1_SV = []\n",
        "f1_KNN = []\n"
      ],
      "metadata": {
        "id": "XxQmOT6e1IKe"
      },
      "execution_count": 162,
      "outputs": []
    },
    {
      "cell_type": "code",
      "source": [
        "coeff_SVC = pd.DataFrame(index = data_scaled.columns)\n",
        "for i in range(1,3):\n",
        "    print(i)\n",
        "    from sklearn.model_selection import StratifiedKFold\n",
        "    skf = StratifiedKFold(n_splits = 5 , shuffle= True , random_state= i)\n",
        "    j = 0\n",
        "    for train , test in skf.split(X , y):\n",
        "        X_train , X_test = X[train] , X[test]\n",
        "        y_train , y_test = y[train] , y[test]\n",
        "        j +=1\n",
        "        from sklearn.svm import SVC\n",
        "        SV = SVC(degree = 2 , gamma = 'scale', kernel ='linear', probability=True)\n",
        "        SV.fit(X_train , y_train)\n",
        "        coeff_SVC.loc[:,f\"iter {i} CV {j}\"] = SV.coef_[0]\n",
        "        y_pred = SV.predict(X_test)\n",
        "        y_pred_proba = SV.predict_proba(X_test)\n",
        "        accuracies_SV.append(accuracy_score(y_test , y_pred))\n",
        "        f1_SV.append(matthews_corrcoef(y_test, y_pred))\n",
        "        fpr , tpr , thresholds = roc_curve(y_test , y_pred_proba[:,1])\n",
        "        plt.plot(fpr , tpr)\n"
      ],
      "metadata": {
        "colab": {
          "base_uri": "https://localhost:8080/",
          "height": 300
        },
        "id": "4135A59S1Vhz",
        "outputId": "0be2f26c-853c-43bd-9488-baf33977bd71"
      },
      "execution_count": 176,
      "outputs": [
        {
          "output_type": "stream",
          "name": "stdout",
          "text": [
            "1\n",
            "2\n"
          ]
        },
        {
          "output_type": "display_data",
          "data": {
            "text/plain": [
              "<Figure size 432x288 with 1 Axes>"
            ],
            "image/png": "[encoded data removed]"
          },
          "metadata": {
            "needs_background": "light"
          }
        }
      ]
    },
    {
      "cell_type": "code",
      "source": [
        "coeff_SVC =pd.DataFrame(coeff_SVC.mean(axis = 1),columns = ['mean_feature_imp']).sort_values('mean_feature_imp', ascending = False) \n",
        "coeff_SVC.head(10)"
      ],
      "metadata": {
        "colab": {
          "base_uri": "https://localhost:8080/",
          "height": 363
        },
        "id": "qLtWO23z4PR5",
        "outputId": "47818cca-1476-421e-bce0-246c713450f8"
      },
      "execution_count": 186,
      "outputs": [
        {
          "output_type": "execute_result",
          "data": {
            "text/plain": [
              "           mean_feature_imp\n",
              "gene_1798          0.014948\n",
              "gene_2156          0.014733\n",
              "gene_1042          0.012709\n",
              "gene_4170          0.012595\n",
              "gene_81            0.012000\n",
              "gene_620           0.011980\n",
              "gene_1870          0.011587\n",
              "gene_2715          0.011504\n",
              "gene_92            0.010980\n",
              "gene_1552          0.010892"
            ],
            "text/html": [
              "\n",
              "  <div id=\"df-a6e20be7-cc99-4974-9965-f91eef311623\">\n",
              "    <div class=\"colab-df-container\">\n",
              "      <div>\n",
              "<style scoped>\n",
              "    .dataframe tbody tr th:only-of-type {\n",
              "        vertical-align: middle;\n",
              "    }\n",
              "\n",
              "    .dataframe tbody tr th {\n",
              "        vertical-align: top;\n",
              "    }\n",
              "\n",
              "    .dataframe thead th {\n",
              "        text-align: right;\n",
              "    }\n",
              "</style>\n",
              "<table border=\"1\" class=\"dataframe\">\n",
              "  <thead>\n",
              "    <tr style=\"text-align: right;\">\n",
              "      <th></th>\n",
              "      <th>mean_feature_imp</th>\n",
              "    </tr>\n",
              "  </thead>\n",
              "  <tbody>\n",
              "    <tr>\n",
              "      <th>gene_1798</th>\n",
              "      <td>0.014948</td>\n",
              "    </tr>\n",
              "    <tr>\n",
              "      <th>gene_2156</th>\n",
              "      <td>0.014733</td>\n",
              "    </tr>\n",
              "    <tr>\n",
              "      <th>gene_1042</th>\n",
              "      <td>0.012709</td>\n",
              "    </tr>\n",
              "    <tr>\n",
              "      <th>gene_4170</th>\n",
              "      <td>0.012595</td>\n",
              "    </tr>\n",
              "    <tr>\n",
              "      <th>gene_81</th>\n",
              "      <td>0.012000</td>\n",
              "    </tr>\n",
              "    <tr>\n",
              "      <th>gene_620</th>\n",
              "      <td>0.011980</td>\n",
              "    </tr>\n",
              "    <tr>\n",
              "      <th>gene_1870</th>\n",
              "      <td>0.011587</td>\n",
              "    </tr>\n",
              "    <tr>\n",
              "      <th>gene_2715</th>\n",
              "      <td>0.011504</td>\n",
              "    </tr>\n",
              "    <tr>\n",
              "      <th>gene_92</th>\n",
              "      <td>0.010980</td>\n",
              "    </tr>\n",
              "    <tr>\n",
              "      <th>gene_1552</th>\n",
              "      <td>0.010892</td>\n",
              "    </tr>\n",
              "  </tbody>\n",
              "</table>\n",
              "</div>\n",
              "      <button class=\"colab-df-convert\" onclick=\"convertToInteractive('df-a6e20be7-cc99-4974-9965-f91eef311623')\"\n",
              "              title=\"Convert this dataframe to an interactive table.\"\n",
              "              style=\"display:none;\">\n",
              "        \n",
              "  <svg xmlns=\"http://www.w3.org/2000/svg\" height=\"24px\"viewBox=\"0 0 24 24\"\n",
              "       width=\"24px\">\n",
              "    <path d=\"M0 0h24v24H0V0z\" fill=\"none\"/>\n",
              "    <path d=\"M18.56 5.44l.94 2.06.94-2.06 2.06-.94-2.06-.94-.94-2.06-.94 2.06-2.06.94zm-11 1L8.5 8.5l.94-2.06 2.06-.94-2.06-.94L8.5 2.5l-.94 2.06-2.06.94zm10 10l.94 2.06.94-2.06 2.06-.94-2.06-.94-.94-2.06-.94 2.06-2.06.94z\"/><path d=\"M17.41 7.96l-1.37-1.37c-.4-.4-.92-.59-1.43-.59-.52 0-1.04.2-1.43.59L10.3 9.45l-7.72 7.72c-.78.78-.78 2.05 0 2.83L4 21.41c.39.39.9.59 1.41.59.51 0 1.02-.2 1.41-.59l7.78-7.78 2.81-2.81c.8-.78.8-2.07 0-2.86zM5.41 20L4 18.59l7.72-7.72 1.47 1.35L5.41 20z\"/>\n",
              "  </svg>\n",
              "      </button>\n",
              "      \n",
              "  <style>\n",
              "    .colab-df-container {\n",
              "      display:flex;\n",
              "      flex-wrap:wrap;\n",
              "      gap: 12px;\n",
              "    }\n",
              "\n",
              "    .colab-df-convert {\n",
              "      background-color: #E8F0FE;\n",
              "      border: none;\n",
              "      border-radius: 50%;\n",
              "      cursor: pointer;\n",
              "      display: none;\n",
              "      fill: #1967D2;\n",
              "      height: 32px;\n",
              "      padding: 0 0 0 0;\n",
              "      width: 32px;\n",
              "    }\n",
              "\n",
              "    .colab-df-convert:hover {\n",
              "      background-color: #E2EBFA;\n",
              "      box-shadow: 0px 1px 2px rgba(60, 64, 67, 0.3), 0px 1px 3px 1px rgba(60, 64, 67, 0.15);\n",
              "      fill: #174EA6;\n",
              "    }\n",
              "\n",
              "    [theme=dark] .colab-df-convert {\n",
              "      background-color: #3B4455;\n",
              "      fill: #D2E3FC;\n",
              "    }\n",
              "\n",
              "    [theme=dark] .colab-df-convert:hover {\n",
              "      background-color: #434B5C;\n",
              "      box-shadow: 0px 1px 3px 1px rgba(0, 0, 0, 0.15);\n",
              "      filter: drop-shadow(0px 1px 2px rgba(0, 0, 0, 0.3));\n",
              "      fill: #FFFFFF;\n",
              "    }\n",
              "  </style>\n",
              "\n",
              "      <script>\n",
              "        const buttonEl =\n",
              "          document.querySelector('#df-a6e20be7-cc99-4974-9965-f91eef311623 button.colab-df-convert');\n",
              "        buttonEl.style.display =\n",
              "          google.colab.kernel.accessAllowed ? 'block' : 'none';\n",
              "\n",
              "        async function convertToInteractive(key) {\n",
              "          const element = document.querySelector('#df-a6e20be7-cc99-4974-9965-f91eef311623');\n",
              "          const dataTable =\n",
              "            await google.colab.kernel.invokeFunction('convertToInteractive',\n",
              "                                                     [key], {});\n",
              "          if (!dataTable) return;\n",
              "\n",
              "          const docLinkHtml = 'Like what you see? Visit the ' +\n",
              "            '<a target=\"_blank\" href=https://colab.research.google.com/notebooks/data_table.ipynb>data table notebook</a>'\n",
              "            + ' to learn more about interactive tables.';\n",
              "          element.innerHTML = '';\n",
              "          dataTable['output_type'] = 'display_data';\n",
              "          await google.colab.output.renderOutput(dataTable, element);\n",
              "          const docLink = document.createElement('div');\n",
              "          docLink.innerHTML = docLinkHtml;\n",
              "          element.appendChild(docLink);\n",
              "        }\n",
              "      </script>\n",
              "    </div>\n",
              "  </div>\n",
              "  "
            ]
          },
          "metadata": {},
          "execution_count": 186
        }
      ]
    },
    {
      "cell_type": "code",
      "source": [
        "plt.barh(y=coeff_SVC.head(n=10).index, width =coeff_SVC.head(n=10).loc[:,'mean_feature_imp'])\n",
        "plt.gca().invert_yaxis()\n",
        "plt.title(\"Feature Importance with Mean Coeff\")\n",
        "plt.xlabel('SVC coeff')\n",
        "plt.show()\n"
      ],
      "metadata": {
        "colab": {
          "base_uri": "https://localhost:8080/",
          "height": 295
        },
        "id": "4KfbDs9n6SBs",
        "outputId": "a59149ea-a91b-4cfa-fa83-73e93c4a0113"
      },
      "execution_count": 187,
      "outputs": [
        {
          "output_type": "display_data",
          "data": {
            "text/plain": [
              "<Figure size 432x288 with 1 Axes>"
            ],
            "image/png": "[encoded data removed]"
          },
          "metadata": {
            "needs_background": "light"
          }
        }
      ]
    },
    {
      "cell_type": "code",
      "source": [
        "#K nearest neighbour\n",
        "coeff_KNN = pd.DataFrame(index = data_scaled.columns)\n",
        "for i in range(1,3):\n",
        "    print(i)\n",
        "    from sklearn.model_selection import StratifiedKFold\n",
        "    skf = StratifiedKFold(n_splits = 5 , shuffle= True , random_state= i)\n",
        "    j = 0\n",
        "    for train , test in skf.split(X , y):\n",
        "        X_train , X_test = X[train] , X[test]\n",
        "        y_train , y_test = y[train] , y[test]\n",
        "        j +=1\n",
        "        from sklearn.neighbors import KNeighborsClassifier\n",
        "        KNN = KNeighborsClassifier(n_neighbors=19 , weights = 'uniform')\n",
        "        KNN.fit(X_train , y_train)\n",
        "        y_pred = KNN.predict(X_test)\n",
        "        y_pred_proba = KNN.predict_proba(X_test)\n",
        "        accuracies_KNN.append(accuracy_score(y_test , y_pred))\n",
        "        f1_KNN.append(matthews_corrcoef(y_test, y_pred))\n",
        "        fpr , tpr , thresholds = roc_curve(y_test , y_pred_proba[:,1])\n",
        "        plt.plot(fpr , tpr)\n",
        "plt.show()"
      ],
      "metadata": {
        "colab": {
          "base_uri": "https://localhost:8080/",
          "height": 300
        },
        "id": "suES9Q9G7IpP",
        "outputId": "6fb748c1-b230-484f-dded-a171b6db9420"
      },
      "execution_count": 188,
      "outputs": [
        {
          "output_type": "stream",
          "name": "stdout",
          "text": [
            "1\n",
            "2\n"
          ]
        },
        {
          "output_type": "display_data",
          "data": {
            "text/plain": [
              "<Figure size 432x288 with 1 Axes>"
            ],
            "image/png": "[encoded data removed]"
          },
          "metadata": {
            "needs_background": "light"
          }
        }
      ]
    },
    {
      "cell_type": "code",
      "source": [
        "box_plots_accuracies = {'KNN': accuracies_KNN, \n",
        "                        'TREE': accuracies_tree,\n",
        "                        }\n",
        "box_plots_f1 = {'KNN': f1_KNN, \n",
        "                'TREE': f1_tree, \n",
        "                }\n",
        "parameter_to_plot = box_plots_f1\n",
        "fig, ax = plt.subplots()\n",
        "ax.boxplot(parameter_to_plot.values())\n",
        "ax.set_xticklabels(parameter_to_plot.keys())\n",
        "plt.show()"
      ],
      "metadata": {
        "colab": {
          "base_uri": "https://localhost:8080/",
          "height": 265
        },
        "id": "9-eP_JdF70II",
        "outputId": "398057eb-8203-4049-f841-5fd82064afb5"
      },
      "execution_count": 190,
      "outputs": [
        {
          "output_type": "display_data",
          "data": {
            "text/plain": [
              "<Figure size 432x288 with 1 Axes>"
            ],
            "image/png": "[encoded data removed]"
          },
          "metadata": {
            "needs_background": "light"
          }
        }
      ]
    },
    {
      "cell_type": "code",
      "source": [
        "box_plots_accuracies = {'KNN': accuracies_KNN, \n",
        "                        'TREE': accuracies_tree,\n",
        "                        }\n",
        "parameter_to_plot = box_plots_accuracies\n",
        "fig, ax = plt.subplots()\n",
        "ax.boxplot(parameter_to_plot.values())\n",
        "ax.set_xticklabels(parameter_to_plot.keys())\n",
        "plt.show()"
      ],
      "metadata": {
        "colab": {
          "base_uri": "https://localhost:8080/",
          "height": 265
        },
        "id": "g4bvJXkU8Ijy",
        "outputId": "1d3bfeda-c4bb-45a4-eda5-f934c7ab4b62"
      },
      "execution_count": 191,
      "outputs": [
        {
          "output_type": "display_data",
          "data": {
            "text/plain": [
              "<Figure size 432x288 with 1 Axes>"
            ],
            "image/png": "[encoded data removed]"
          },
          "metadata": {
            "needs_background": "light"
          }
        }
      ]
    },
    {
      "cell_type": "code",
      "source": [
        "print(np.max(accuracies_KNN))\n",
        "print(np.max(accuracies_tree))\n"
      ],
      "metadata": {
        "colab": {
          "base_uri": "https://localhost:8080/"
        },
        "id": "ex6aiUGQ8UTP",
        "outputId": "ae1c2ed0-80ec-4222-c09e-fa3f8f4379b1"
      },
      "execution_count": 193,
      "outputs": [
        {
          "output_type": "stream",
          "name": "stdout",
          "text": [
            "1.0\n",
            "0.9649122807017544\n"
          ]
        }
      ]
    },
    {
      "cell_type": "code",
      "source": [
        "\"\"\"\n",
        "testing validator\n",
        "\"\"\"\n",
        "#remove features\n",
        "X_validator.shape\n",
        "X_validator = X_validator.loc[:,data_filtered.columns]"
      ],
      "metadata": {
        "id": "rNzw_XwT8hXk"
      },
      "execution_count": 194,
      "outputs": []
    },
    {
      "cell_type": "code",
      "source": [
        "#separate classes for imputation\n",
        "class0_validator = y_validator[y_validator == 0]\n",
        "class1_validator = y_validator[y_validator == 1]\n",
        "\n",
        "X_validator_class0 = X_validator.loc[class0_validator.index,:]\n",
        "X_validator_class1 = X_validator.loc[class1_validator.index,:]\n",
        "\n",
        "print(X_validator_class0.shape)\n",
        "print(X_validator_class1.shape)"
      ],
      "metadata": {
        "colab": {
          "base_uri": "https://localhost:8080/"
        },
        "id": "sNz_uN_A8jQs",
        "outputId": "045fb938-0ab9-414a-8c1d-5df5bbc50ecf"
      },
      "execution_count": 195,
      "outputs": [
        {
          "output_type": "stream",
          "name": "stdout",
          "text": [
            "(19, 4458)\n",
            "(11, 4458)\n"
          ]
        }
      ]
    },
    {
      "cell_type": "code",
      "source": [
        "#paste with filtered data\n",
        "data_impute_validator_class0 = data_filtered_class0.append(X_validator_class0)\n",
        "print(data_filtered_class0.shape)\n",
        "print(data_impute_validator_class0.shape)\n",
        "data_impute_validator_class0.isna().sum()"
      ],
      "metadata": {
        "colab": {
          "base_uri": "https://localhost:8080/"
        },
        "id": "jcX66lCU8q_9",
        "outputId": "5a81376d-9885-47f0-91c4-f17ac8e1ad23"
      },
      "execution_count": 198,
      "outputs": [
        {
          "output_type": "stream",
          "name": "stdout",
          "text": [
            "(356, 4458)\n",
            "(375, 4458)\n"
          ]
        },
        {
          "output_type": "execute_result",
          "data": {
            "text/plain": [
              "gene_2        0\n",
              "gene_4        0\n",
              "gene_5       38\n",
              "gene_7        0\n",
              "gene_8        0\n",
              "             ..\n",
              "gene_4996     0\n",
              "gene_4997     0\n",
              "gene_4998     0\n",
              "gene_4999     0\n",
              "gene_5000     0\n",
              "Length: 4458, dtype: int64"
            ]
          },
          "metadata": {},
          "execution_count": 198
        }
      ]
    },
    {
      "cell_type": "code",
      "source": [
        "#paste with filtered data\n",
        "data_impute_validator_class1 = data_filtered_class1.append(X_validator_class1)\n",
        "print(data_filtered_class1.shape)\n",
        "print(data_impute_validator_class1.shape)\n",
        "data_impute_validator_class1.isna().sum()"
      ],
      "metadata": {
        "colab": {
          "base_uri": "https://localhost:8080/"
        },
        "id": "tUql-t-G9kUL",
        "outputId": "4e7654de-1f53-4813-8b6c-7e25c9fa204f"
      },
      "execution_count": 199,
      "outputs": [
        {
          "output_type": "stream",
          "name": "stdout",
          "text": [
            "(214, 4458)\n",
            "(225, 4458)\n"
          ]
        },
        {
          "output_type": "execute_result",
          "data": {
            "text/plain": [
              "gene_2        0\n",
              "gene_4        0\n",
              "gene_5       13\n",
              "gene_7        0\n",
              "gene_8        0\n",
              "             ..\n",
              "gene_4996     0\n",
              "gene_4997     0\n",
              "gene_4998     0\n",
              "gene_4999     0\n",
              "gene_5000     0\n",
              "Length: 4458, dtype: int64"
            ]
          },
          "metadata": {},
          "execution_count": 199
        }
      ]
    },
    {
      "cell_type": "code",
      "source": [
        "#imputing KNN\n",
        "from sklearn.impute import KNNImputer\n",
        "imputer = KNNImputer(missing_values=np.nan , n_neighbors=5)\n",
        "data_imputed_validator_class0 = imputer.fit_transform(data_impute_validator_class0)\n",
        "data_imputed_validator_class0 = pd.DataFrame(data_imputed_validator_class0, columns=data_impute_validator_class0.columns,index=data_impute_validator_class0.index)\n",
        "data_imputed_validator_class0.isna().sum()\n",
        "\n",
        "data_imputed_validator_class1 = imputer.fit_transform(data_impute_validator_class1)\n",
        "data_imputed_validator_class1 = pd.DataFrame(data_imputed_validator_class1, columns=data_impute_validator_class1.columns,index=data_impute_validator_class1.index)\n",
        "data_imputed_validator_class1.isna().sum()\n",
        "\n",
        "data_validator_imputed = data_imputed_validator_class0.append(data_imputed_validator_class1)\n"
      ],
      "metadata": {
        "colab": {
          "base_uri": "https://localhost:8080/"
        },
        "id": "97bkxznl9wBE",
        "outputId": "1de02c39-23fd-4048-914b-19ce76d52f33"
      },
      "execution_count": 200,
      "outputs": [
        {
          "output_type": "execute_result",
          "data": {
            "text/plain": [
              "gene_2       0\n",
              "gene_3339    0\n",
              "gene_3345    0\n",
              "gene_3344    0\n",
              "gene_3343    0\n",
              "gene_3342    0\n",
              "gene_3341    0\n",
              "gene_3340    0\n",
              "gene_3338    0\n",
              "gene_3330    0\n",
              "gene_3337    0\n",
              "gene_3336    0\n",
              "gene_3335    0\n",
              "gene_3334    0\n",
              "gene_3333    0\n",
              "dtype: int64"
            ]
          },
          "metadata": {},
          "execution_count": 200
        }
      ]
    },
    {
      "cell_type": "code",
      "source": [
        "data_validator_imputed.loc[:,'gene_5'].isna().sum()"
      ],
      "metadata": {
        "colab": {
          "base_uri": "https://localhost:8080/"
        },
        "id": "Etz3DMUd-88U",
        "outputId": "76fa556a-19d8-4cc6-accb-877d28277dd5"
      },
      "execution_count": 208,
      "outputs": [
        {
          "output_type": "execute_result",
          "data": {
            "text/plain": [
              "0"
            ]
          },
          "metadata": {},
          "execution_count": 208
        }
      ]
    },
    {
      "cell_type": "code",
      "source": [
        "#scaling\n",
        "from sklearn.preprocessing import StandardScaler\n",
        "scaler = StandardScaler()\n",
        "data_validator_scaled = scaler.fit_transform(data_validator_imputed)\n",
        "data_validator_scaled = pd.DataFrame(data_validator_scaled, columns = data_validator_imputed.columns , index = data_validator_imputed.index)\n",
        "data_validator_scaled.isna().sum().sort_values(ascending=False)[0:15]\n",
        "X_validator = data_validator_scaled.loc[X_validator.index ,data_imputed.columns]\n"
      ],
      "metadata": {
        "id": "dNAObH0W96tw"
      },
      "execution_count": 201,
      "outputs": []
    },
    {
      "cell_type": "code",
      "source": [
        "X_validator = np.array(X_validator)\n",
        "y_validator.shape\n",
        "\n",
        "y_validator = np.array(y_validator)\n",
        "y_pred_validator = KNN.predict(X_validator)\n",
        "print(accuracy_score(y_validator , y_pred_validator))\n",
        "print(f1_score(y_validator , y_pred_validator))"
      ],
      "metadata": {
        "colab": {
          "base_uri": "https://localhost:8080/"
        },
        "id": "z8cyhQrW-AYH",
        "outputId": "6d4a8456-bace-4baf-c796-c5a8a2934f51"
      },
      "execution_count": 204,
      "outputs": [
        {
          "output_type": "stream",
          "name": "stdout",
          "text": [
            "1.0\n",
            "1.0\n"
          ]
        }
      ]
    },
    {
      "cell_type": "code",
      "source": [
        "X_validator = np.array(X_validator)\n",
        "y_validator.shape\n",
        "\n",
        "y_validator = np.array(y_validator)\n",
        "y_pred_validator = SV.predict(X_validator)\n",
        "print(accuracy_score(y_validator , y_pred_validator))\n",
        "print(f1_score(y_validator , y_pred_validator))"
      ],
      "metadata": {
        "colab": {
          "base_uri": "https://localhost:8080/"
        },
        "id": "m23koEEk-PK_",
        "outputId": "f31ab49e-0ec3-4489-bb3f-c83b32222b9a"
      },
      "execution_count": 206,
      "outputs": [
        {
          "output_type": "stream",
          "name": "stdout",
          "text": [
            "1.0\n",
            "1.0\n"
          ]
        }
      ]
    },
    {
      "cell_type": "code",
      "source": [
        "\"\"\"\n",
        "Greedy Search\n",
        "\"\"\"\n",
        "from sklearn.feature_selection import SequentialFeatureSelector\n",
        "from sklearn.neighbors import KNeighborsClassifier\n",
        "KNN = KNeighborsClassifier(n_neighbors=19 , weights = 'uniform')\n",
        "selector = SequentialFeatureSelector(estimator=KNN , n_features_to_select=10, direction=\"forward\")\n",
        "selector.fit(data_scaled , labels)\n",
        "greedy_selected_features_forward = selector.get_feature_names_out()"
      ],
      "metadata": {
        "id": "6VRTkUke_koS"
      },
      "execution_count": null,
      "outputs": []
    },
    {
      "cell_type": "code",
      "source": [
        "greedy_selected_features_forward"
      ],
      "metadata": {
        "colab": {
          "base_uri": "https://localhost:8080/",
          "height": 165
        },
        "id": "ci6Yi9ToAw_B",
        "outputId": "503e4dcb-735c-49ff-be37-b264a799352f"
      },
      "execution_count": 211,
      "outputs": [
        {
          "output_type": "error",
          "ename": "AttributeError",
          "evalue": "ignored",
          "traceback": [
            "\u001b[0;31m---------------------------------------------------------------------------\u001b[0m",
            "\u001b[0;31mAttributeError\u001b[0m                            Traceback (most recent call last)",
            "\u001b[0;32m<ipython-input-211-bb2430ffee48>\u001b[0m in \u001b[0;36m<module>\u001b[0;34m\u001b[0m\n\u001b[0;32m----> 1\u001b[0;31m \u001b[0mlabels\u001b[0m\u001b[0;34m.\u001b[0m\u001b[0mdtype\u001b[0m\u001b[0;34m(\u001b[0m\u001b[0;34m)\u001b[0m\u001b[0;34m\u001b[0m\u001b[0;34m\u001b[0m\u001b[0m\n\u001b[0m",
            "\u001b[0;31mAttributeError\u001b[0m: 'list' object has no attribute 'dtype'"
          ]
        }
      ]
    },
    {
      "cell_type": "code",
      "source": [
        "selector = SequentialFeatureSelector(estimator=KNN , n_features_to_select=10, direction=\"backward\")\n",
        "selector.fit(data_scaled , labels)\n",
        "greedy_selected_features_backward = selector.get_feature_names_out()"
      ],
      "metadata": {
        "id": "GEPY1AQMB668"
      },
      "execution_count": null,
      "outputs": []
    }
  ]
}